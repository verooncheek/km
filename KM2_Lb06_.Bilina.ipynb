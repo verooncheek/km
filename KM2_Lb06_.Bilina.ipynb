{
 "cells": [
  {
   "cell_type": "markdown",
   "id": "288ce7a9-b435-4512-bb44-a9830434c03d",
   "metadata": {},
   "source": [
    "# Лабораторная работа 6"
   ]
  },
  {
   "cell_type": "markdown",
   "id": "e5d0a6c4-680e-4ff7-a7fa-8262e2ef99c5",
   "metadata": {},
   "source": [
    "# Выравнивание списка, состоящего из итерируемых объектов, на основе рекурсии"
   ]
  },
  {
   "cell_type": "markdown",
   "id": "0a6842b3-0268-47e1-859a-8c31f616cc97",
   "metadata": {},
   "source": [
    "Билина Вероника, 30.04.2025"
   ]
  },
  {
   "cell_type": "markdown",
   "id": "ef837c01-af2b-41e9-aec1-992bcd3401f8",
   "metadata": {},
   "source": [
    "## Задание 6.1. Выравниание вложенных списков"
   ]
  },
  {
   "cell_type": "markdown",
   "id": "e8f7631e-9110-4f5d-9c3d-eb3367d4e2f3",
   "metadata": {},
   "source": [
    "### Задание 6.1.1. Рекурсивная функция flatten_list_v1"
   ]
  },
  {
   "cell_type": "code",
   "execution_count": 5,
   "id": "8792da1a-4b51-4743-829d-22bd2ff744cd",
   "metadata": {},
   "outputs": [],
   "source": [
    "it_list = [[1],[2,[3]],[[[[[4]]]]],5,6,7]"
   ]
  },
  {
   "cell_type": "code",
   "execution_count": 7,
   "id": "c58cdbef-b94d-4d5b-bdae-fdf181065805",
   "metadata": {},
   "outputs": [
    {
     "data": {
      "text/plain": [
       "\u001b[1;31mSignature:\u001b[0m \u001b[0misinstance\u001b[0m\u001b[1;33m(\u001b[0m\u001b[0mobj\u001b[0m\u001b[1;33m,\u001b[0m \u001b[0mclass_or_tuple\u001b[0m\u001b[1;33m,\u001b[0m \u001b[1;33m/\u001b[0m\u001b[1;33m)\u001b[0m\u001b[1;33m\u001b[0m\u001b[1;33m\u001b[0m\u001b[0m\n",
       "\u001b[1;31mDocstring:\u001b[0m\n",
       "Return whether an object is an instance of a class or of a subclass thereof.\n",
       "\n",
       "A tuple, as in ``isinstance(x, (A, B, ...))``, may be given as the target to\n",
       "check against. This is equivalent to ``isinstance(x, A) or isinstance(x, B)\n",
       "or ...`` etc.\n",
       "\u001b[1;31mType:\u001b[0m      builtin_function_or_method"
      ]
     },
     "metadata": {},
     "output_type": "display_data"
    }
   ],
   "source": [
    "?isinstance"
   ]
  },
  {
   "cell_type": "code",
   "execution_count": 9,
   "id": "efdfc043-4f32-48c4-943e-11d900affb9a",
   "metadata": {},
   "outputs": [],
   "source": [
    "def flatten_list_v1(nested_obj):\n",
    "    result = [] # Создаем пустой список, в который далее будем сохранять элементы \n",
    "    if isinstance(nested_obj,list): # Проверяем является ли объект списком\n",
    "        for item in nested_obj: # Перебираем элементы\n",
    "            result += flatten_list_v1(item) # Применяем рекурсию для разворачивания влоенных списков\n",
    "    else:\n",
    "        result += [nested_obj] # Если объект не является списком, добавляем его в результат\n",
    "    return result"
   ]
  },
  {
   "cell_type": "code",
   "execution_count": 11,
   "id": "cc0d23ed-c25f-4d1e-a181-3be650373b44",
   "metadata": {},
   "outputs": [
    {
     "data": {
      "text/plain": [
       "[1, 2, 3, 4, 5, 6, 7]"
      ]
     },
     "execution_count": 11,
     "metadata": {},
     "output_type": "execute_result"
    }
   ],
   "source": [
    "flatten_list_v1(it_list)"
   ]
  },
  {
   "cell_type": "markdown",
   "id": "6a78f34e-3ac1-47db-9486-d3d717dceb3d",
   "metadata": {},
   "source": [
    "### Задание 6.1.2. Генераторная функция на основе рекурсии flatten_list_v2 "
   ]
  },
  {
   "cell_type": "code",
   "execution_count": 14,
   "id": "c5c5c4cc-35e4-4c7e-9183-44df53ac7c5c",
   "metadata": {},
   "outputs": [],
   "source": [
    "def flatten_list_v2(nested_obj):\n",
    "    if isinstance(nested_obj,list): # Проверяем является ли объект списком\n",
    "        for item in nested_obj: # Перебираем элементы списка\n",
    "            for sub_item in flatten_list_v2(item): # Рекурсивно вызываем функцию для каждого элемента списка, получая вложенные элементы \n",
    "                yield sub_item # Возвращаем полученные элементы через Yield \n",
    "    else:\n",
    "        yield nested_obj # Если объект не список - возвращаем его"
   ]
  },
  {
   "cell_type": "code",
   "execution_count": 16,
   "id": "ae7eedbf-291d-4d43-9c5c-d2a873845174",
   "metadata": {},
   "outputs": [
    {
     "data": {
      "text/plain": [
       "[1, 2, 3, 4, 5, 6, 7]"
      ]
     },
     "execution_count": 16,
     "metadata": {},
     "output_type": "execute_result"
    }
   ],
   "source": [
    "[x for x in flatten_list_v2(it_list)]"
   ]
  },
  {
   "cell_type": "code",
   "execution_count": 18,
   "id": "f8093e92-955e-40bd-b765-e0a0712b96a6",
   "metadata": {},
   "outputs": [],
   "source": [
    "def flatten_list_v21(nested_obj):\n",
    "    for item in nested_obj: # Перебираем элементы\n",
    "        if isinstance(item,list): # Проверяем является ли объект списком\n",
    "            yield from flatten_list_v21(item) # Рекурсивно вызываем функцию  передаю ее элементы \n",
    "        else:\n",
    "            yield item # Если элемент не список, то возвращаем его"
   ]
  },
  {
   "cell_type": "code",
   "execution_count": 20,
   "id": "3c52c4f7-7d8c-42f9-8890-736d9a89096b",
   "metadata": {},
   "outputs": [
    {
     "data": {
      "text/plain": [
       "[1, 2, 3, 4, 5, 6, 7]"
      ]
     },
     "execution_count": 20,
     "metadata": {},
     "output_type": "execute_result"
    }
   ],
   "source": [
    "[x for x in flatten_list_v21(it_list)]"
   ]
  },
  {
   "cell_type": "markdown",
   "id": "31258473-727b-4b6f-8fde-8439a15dfa7a",
   "metadata": {},
   "source": [
    "### Задание 6.1.3. Функция flatten_list: создание, документирование, тестирование "
   ]
  },
  {
   "cell_type": "code",
   "execution_count": 23,
   "id": "090493f6-0e7f-4af2-9b78-25eacc3ed76f",
   "metadata": {},
   "outputs": [],
   "source": [
    "def flatten_list(nested_obj, gen=False):\n",
    "    \"\"\" Функция возвращает либо список из элементов вложенных списков \n",
    "    без сохранения структуры, если gen=False, либо возвращает генераторный \n",
    "    объект, если gen=True.\"\"\"\n",
    "    def flatten_list_v2(nested_obj):\n",
    "        if isinstance(nested_obj,list): \n",
    "            for item in nested_obj: \n",
    "                for sub_item in flatten_list_v2(item): \n",
    "                    yield sub_item  \n",
    "        else:\n",
    "            yield nested_obj \n",
    "    if gen:\n",
    "        return [x for x in flatten_list_v2(nested_obj)] \n",
    "    else:\n",
    "        result = []  \n",
    "        if isinstance(nested_obj,list):\n",
    "            for item in nested_obj:\n",
    "                result += flatten_list_v1(item) \n",
    "        else:\n",
    "            result += [nested_obj] \n",
    "        return result"
   ]
  },
  {
   "cell_type": "code",
   "execution_count": 25,
   "id": "3b0175fb-f001-4912-bd4e-9e20f31d3977",
   "metadata": {},
   "outputs": [
    {
     "data": {
      "text/plain": [
       "[4, 6, 7, 4, 6, 7, 9, 7, 9, 89]"
      ]
     },
     "execution_count": 25,
     "metadata": {},
     "output_type": "execute_result"
    }
   ],
   "source": [
    "flatten_list([[4,6,7],4,[[[[6,7],9,]],7],9,89,],True)"
   ]
  },
  {
   "cell_type": "code",
   "execution_count": 27,
   "id": "6954f860-5ea6-4635-a2f2-6a10d8336697",
   "metadata": {},
   "outputs": [
    {
     "data": {
      "text/plain": [
       "[3, 4, 67, 78, 4, 55, 67, 0, 99, 6, 78]"
      ]
     },
     "execution_count": 27,
     "metadata": {},
     "output_type": "execute_result"
    }
   ],
   "source": [
    "flatten_list([3,[[[4,67,78],[4,55,67],0,99],[6,78]]])"
   ]
  },
  {
   "cell_type": "code",
   "execution_count": 29,
   "id": "754c166c-c295-46f6-9a22-5f5c064a0a42",
   "metadata": {},
   "outputs": [
    {
     "data": {
      "text/plain": [
       "[9, 8, 7, 6, 5, 4, 3, 2, 1]"
      ]
     },
     "execution_count": 29,
     "metadata": {},
     "output_type": "execute_result"
    }
   ],
   "source": [
    "flatten_list([[[[9,8,7],6,5],4,3],2,1],False)"
   ]
  },
  {
   "cell_type": "markdown",
   "id": "1ed332b7-0826-462b-b28d-ca24fcf745b3",
   "metadata": {},
   "source": [
    "## Задание 6.2. Выравнивание вложенных итерирукемых объектов произвольного типа "
   ]
  },
  {
   "cell_type": "code",
   "execution_count": 32,
   "id": "419200a4-9afd-4237-ba71-0d24141795b8",
   "metadata": {},
   "outputs": [
    {
     "data": {
      "text/plain": [
       "[[1], [2, [3]], [[[[[4]]]]], 5, 6, 7]"
      ]
     },
     "execution_count": 32,
     "metadata": {},
     "output_type": "execute_result"
    }
   ],
   "source": [
    "it_list"
   ]
  },
  {
   "cell_type": "code",
   "execution_count": 34,
   "id": "93fb5b05-bd1c-4643-9e19-95459d668f35",
   "metadata": {},
   "outputs": [],
   "source": [
    "it_tuple = (((7),(8)),(9),10)"
   ]
  },
  {
   "cell_type": "code",
   "execution_count": 36,
   "id": "566bed25-073a-4126-9456-aa7449e70d07",
   "metadata": {
    "scrolled": true
   },
   "outputs": [],
   "source": [
    "it_str = \"abcdefgh\""
   ]
  },
  {
   "cell_type": "code",
   "execution_count": 38,
   "id": "87c0f895-cdaf-459b-a5ce-f900f9444cd6",
   "metadata": {},
   "outputs": [],
   "source": [
    "it_dict = {\"key1\": 11, \"key2\": {\"key3\": 12}}"
   ]
  },
  {
   "cell_type": "code",
   "execution_count": 84,
   "id": "08603e98-ade6-411f-af09-0a5dc4639e96",
   "metadata": {},
   "outputs": [],
   "source": [
    "it_gen = ([i,i**2,i**3] for i in range(5))"
   ]
  },
  {
   "cell_type": "code",
   "execution_count": 42,
   "id": "52bd77be-6590-4354-bcee-a64177f05b79",
   "metadata": {},
   "outputs": [],
   "source": [
    "with open(\"flatten_file.txt\", \"w\") as file:\n",
    "    file.write(\"flatten_file abcdef\")"
   ]
  },
  {
   "cell_type": "code",
   "execution_count": 44,
   "id": "fad61994-7da7-4fee-a07b-decddf57def6",
   "metadata": {},
   "outputs": [],
   "source": [
    "it_file = open(\"flatten_file.txt\")"
   ]
  },
  {
   "cell_type": "code",
   "execution_count": 46,
   "id": "e69938d3-875f-4c0b-9982-b229030c3a42",
   "metadata": {},
   "outputs": [],
   "source": [
    "it = [it_list, it_tuple, it_str, it_dict, it_gen, it_file]"
   ]
  },
  {
   "cell_type": "code",
   "execution_count": 48,
   "id": "46c549e9-68de-4b4a-b55f-37d99b39bf5c",
   "metadata": {},
   "outputs": [
    {
     "data": {
      "text/plain": [
       "[True, True, True, True, True, True]"
      ]
     },
     "execution_count": 48,
     "metadata": {},
     "output_type": "execute_result"
    }
   ],
   "source": [
    "['__iter__' in dir(x) for x in it]"
   ]
  },
  {
   "cell_type": "code",
   "execution_count": 50,
   "id": "d514b49a-0f5f-47b2-8eda-d715bfc1e7df",
   "metadata": {},
   "outputs": [
    {
     "data": {
      "text/plain": [
       "[True, True, True, True, True, True]"
      ]
     },
     "execution_count": 50,
     "metadata": {},
     "output_type": "execute_result"
    }
   ],
   "source": [
    "[hasattr(x, '__iter__') for x in it]\n"
   ]
  },
  {
   "cell_type": "code",
   "execution_count": 52,
   "id": "1f3ecdca-09ef-4fc5-98a9-b0ba5cce53b5",
   "metadata": {},
   "outputs": [
    {
     "data": {
      "text/plain": [
       "\u001b[1;31mSignature:\u001b[0m \u001b[0mhasattr\u001b[0m\u001b[1;33m(\u001b[0m\u001b[0mobj\u001b[0m\u001b[1;33m,\u001b[0m \u001b[0mname\u001b[0m\u001b[1;33m,\u001b[0m \u001b[1;33m/\u001b[0m\u001b[1;33m)\u001b[0m\u001b[1;33m\u001b[0m\u001b[1;33m\u001b[0m\u001b[0m\n",
       "\u001b[1;31mDocstring:\u001b[0m\n",
       "Return whether the object has an attribute with the given name.\n",
       "\n",
       "This is done by calling getattr(obj, name) and catching AttributeError.\n",
       "\u001b[1;31mType:\u001b[0m      builtin_function_or_method"
      ]
     },
     "metadata": {},
     "output_type": "display_data"
    }
   ],
   "source": [
    "?hasattr"
   ]
  },
  {
   "cell_type": "markdown",
   "id": "e47bb05f-0c33-4d84-af7a-c0a817beca45",
   "metadata": {},
   "source": [
    "### Задание 6.2.1. Рекурсивная функция flatten_it_v1"
   ]
  },
  {
   "cell_type": "code",
   "execution_count": 55,
   "id": "fb46285d-84b8-464e-ab15-f47659a54c3d",
   "metadata": {},
   "outputs": [],
   "source": [
    "def flatten_it_v1(nested_obj):\n",
    "    result = []  # Создаем список для хранения элементов\n",
    "    # Проверяем, является ли объект итерируемым, но исключаем строки и байты\n",
    "    if hasattr(nested_obj, '__iter__') and not isinstance(nested_obj, (str, bytes)):\n",
    "        if isinstance(nested_obj, dict):  # Если объект - словарь\n",
    "            # Рекурсивно добавляем ключи и значения словаря в список\n",
    "            result.extend(flatten_it_v1(nested_obj.keys()))\n",
    "            result.extend(flatten_it_v1(nested_obj.values()))\n",
    "        else:\n",
    "            # Рекурсивно разворачиваем другие итерируемые объекты\n",
    "            for item in nested_obj:\n",
    "                result.extend(flatten_it_v1(item))\n",
    "    else:\n",
    "        # Если объект не итерируемый (или является строкой), добавляем его в результат\n",
    "        result.append(nested_obj)\n",
    "    return result"
   ]
  },
  {
   "cell_type": "code",
   "execution_count": 57,
   "id": "9129261f-16b7-4f91-b892-321276953f7c",
   "metadata": {},
   "outputs": [
    {
     "data": {
      "text/plain": [
       "['key1', 'key2', 11, 'key3', 12]"
      ]
     },
     "execution_count": 57,
     "metadata": {},
     "output_type": "execute_result"
    }
   ],
   "source": [
    "flatten_it_v1(it_dict)"
   ]
  },
  {
   "cell_type": "code",
   "execution_count": 59,
   "id": "f85ef753-8094-46d4-a5dd-563e923050fa",
   "metadata": {},
   "outputs": [
    {
     "data": {
      "text/plain": [
       "['flatten_file abcdef']"
      ]
     },
     "execution_count": 59,
     "metadata": {},
     "output_type": "execute_result"
    }
   ],
   "source": [
    "flatten_it_v1(it_file)"
   ]
  },
  {
   "cell_type": "code",
   "execution_count": 82,
   "id": "20d309d9-9505-483b-845e-05bb0113e506",
   "metadata": {},
   "outputs": [
    {
     "data": {
      "text/plain": [
       "[0, 0, 0, 1, 1, 1, 2, 4, 8, 3, 9, 27, 4, 16, 64]"
      ]
     },
     "execution_count": 82,
     "metadata": {},
     "output_type": "execute_result"
    }
   ],
   "source": [
    "flatten_it_v1(it_gen)"
   ]
  },
  {
   "cell_type": "code",
   "execution_count": 63,
   "id": "b079985a-29b0-4f12-90c0-afa6882ffbf8",
   "metadata": {},
   "outputs": [
    {
     "data": {
      "text/plain": [
       "[1, 2, 3, 4, 5, 6, 7]"
      ]
     },
     "execution_count": 63,
     "metadata": {},
     "output_type": "execute_result"
    }
   ],
   "source": [
    "flatten_it_v1(it_list)"
   ]
  },
  {
   "cell_type": "code",
   "execution_count": 65,
   "id": "d689c0a3-1dda-4eb7-8667-c55c7f7e24ee",
   "metadata": {},
   "outputs": [
    {
     "data": {
      "text/plain": [
       "[7, 8, 9, 10]"
      ]
     },
     "execution_count": 65,
     "metadata": {},
     "output_type": "execute_result"
    }
   ],
   "source": [
    "flatten_it_v1(it_tuple)"
   ]
  },
  {
   "cell_type": "code",
   "execution_count": 67,
   "id": "0554f03b-12b1-43bd-b379-cb9419986b54",
   "metadata": {},
   "outputs": [
    {
     "data": {
      "text/plain": [
       "['abcdefgh']"
      ]
     },
     "execution_count": 67,
     "metadata": {},
     "output_type": "execute_result"
    }
   ],
   "source": [
    "flatten_it_v1(it_str)"
   ]
  },
  {
   "cell_type": "markdown",
   "id": "ce948ce6-2383-42e0-ac64-d45e6c2018f0",
   "metadata": {},
   "source": [
    "### Задание 6.2.2. Генераторная функция на основе рекурсии flatten_it_v2"
   ]
  },
  {
   "cell_type": "code",
   "execution_count": 70,
   "id": "13b93722-d446-4fd6-84f6-613076dbe7b1",
   "metadata": {},
   "outputs": [],
   "source": [
    "def flatten_it_v2(nested_obj):\n",
    "    if hasattr(nested_obj, '__iter__') and not isinstance(nested_obj, (str, bytes)):  \n",
    "        if isinstance(nested_obj, dict):\n",
    "            for key,value in nested_obj.items():\n",
    "                yield from flatten_it_v1(key) \n",
    "                yield from flatten_it_v1(value)\n",
    "        else:# Если объект — список, кортеж или множество, просто обрабатываем его элементы\n",
    "            for item in nested_obj:\n",
    "                yield from flatten_it_v1(item)  # Рекурсивно разворачиваем вложенные элементы\n",
    "    else: # Если объект — не итерируемый или является строкой, добавляем его в список\n",
    "        yield nested_obj"
   ]
  },
  {
   "cell_type": "code",
   "execution_count": 72,
   "id": "2a3d4d0b-7c2c-41ae-8ee8-de0d4d9d7983",
   "metadata": {},
   "outputs": [
    {
     "data": {
      "text/plain": [
       "['key1', 11, 'key2', 'key3', 12]"
      ]
     },
     "execution_count": 72,
     "metadata": {},
     "output_type": "execute_result"
    }
   ],
   "source": [
    "[x for x in flatten_it_v2(it_dict)]"
   ]
  },
  {
   "cell_type": "code",
   "execution_count": 74,
   "id": "99ca241a-ba24-489d-9340-e76df42bbcac",
   "metadata": {},
   "outputs": [
    {
     "data": {
      "text/plain": [
       "[7, 8, 9, 10]"
      ]
     },
     "execution_count": 74,
     "metadata": {},
     "output_type": "execute_result"
    }
   ],
   "source": [
    "[x for x in flatten_it_v2(it_tuple)]"
   ]
  },
  {
   "cell_type": "code",
   "execution_count": 86,
   "id": "451d3df8-364a-4d3a-bcd8-7bffe4ec15cb",
   "metadata": {},
   "outputs": [
    {
     "data": {
      "text/plain": [
       "[0, 0, 0, 1, 1, 1, 2, 4, 8, 3, 9, 27, 4, 16, 64]"
      ]
     },
     "execution_count": 86,
     "metadata": {},
     "output_type": "execute_result"
    }
   ],
   "source": [
    "[x for x in flatten_it_v2(it_gen)]"
   ]
  },
  {
   "cell_type": "markdown",
   "id": "6fa2cb98-137f-48bc-97eb-12c403d98c61",
   "metadata": {},
   "source": [
    "### Задание 6.2.3. Функция flatten_it: создание, документирование, тестирование"
   ]
  },
  {
   "cell_type": "code",
   "execution_count": 89,
   "id": "1e959f0e-2656-454b-bc16-33712fc81e7b",
   "metadata": {},
   "outputs": [],
   "source": [
    "def flatten_it(nested_obj, gen=False):\n",
    "    \"\"\" Функция возвращает либо список из элементов вложенных объектов \n",
    "    без сохранения структуры, если gen=False, либо возвращает генераторный \n",
    "    объект, если gen=True.\"\"\"\n",
    "    def flatten_it_v2(nested_obj):\n",
    "        if hasattr(nested_obj, '__iter__') and not isinstance(nested_obj, (str, bytes)):  \n",
    "            if isinstance(nested_obj, dict):\n",
    "                for key,value in nested_obj.items():\n",
    "                    yield from flatten_it_v1(key) \n",
    "                    yield from flatten_it_v1(value)\n",
    "            else:\n",
    "                for item in nested_obj:\n",
    "                    yield from flatten_it_v1(item)  \n",
    "        else:\n",
    "            yield nested_obj \n",
    "    if gen:\n",
    "        return [x for x in flatten_it(nested_obj)] \n",
    "    else:\n",
    "        result = []  # Создаем список для хранения элементов\n",
    "        if hasattr(nested_obj, '__iter__') and not isinstance(nested_obj, (str,bytes)):  \n",
    "            if isinstance(nested_obj, dict):\n",
    "                for key, value in nested_obj.items():\n",
    "                    result.extend(flatten_it_v1(key))  \n",
    "                    result.extend(flatten_it_v1(value)) \n",
    "            else:\n",
    "                for item in nested_obj:\n",
    "                    result.extend(flatten_it_v1(item)) \n",
    "        else: \n",
    "            result.append(nested_obj)\n",
    "        return result"
   ]
  },
  {
   "cell_type": "code",
   "execution_count": 91,
   "id": "4ac66743-8e6f-4430-9866-98bfdad0b1f5",
   "metadata": {},
   "outputs": [
    {
     "data": {
      "text/plain": [
       "['key1', 11, 'key2', 'key3', 12]"
      ]
     },
     "execution_count": 91,
     "metadata": {},
     "output_type": "execute_result"
    }
   ],
   "source": [
    "flatten_it(it_dict)"
   ]
  },
  {
   "cell_type": "code",
   "execution_count": 93,
   "id": "31415296-8c67-4560-bc27-087dd15c6024",
   "metadata": {},
   "outputs": [
    {
     "data": {
      "text/plain": [
       "[7, 8, 9, 10]"
      ]
     },
     "execution_count": 93,
     "metadata": {},
     "output_type": "execute_result"
    }
   ],
   "source": [
    "flatten_it(it_tuple,True)"
   ]
  },
  {
   "cell_type": "code",
   "execution_count": 95,
   "id": "3b9e9680-ea71-48a7-b9e8-1b9333ff4a8e",
   "metadata": {},
   "outputs": [
    {
     "data": {
      "text/plain": [
       "[1, 2, 3, 4, 5, 6, 7]"
      ]
     },
     "execution_count": 95,
     "metadata": {},
     "output_type": "execute_result"
    }
   ],
   "source": [
    "flatten_it(it_list,False)"
   ]
  },
  {
   "cell_type": "markdown",
   "id": "046c295a-0dbf-4e13-b306-9b291ac18666",
   "metadata": {},
   "source": [
    "## Задание 6.3. Обработка циклических объектов"
   ]
  },
  {
   "cell_type": "code",
   "execution_count": 98,
   "id": "1a33bca9-3cc6-45be-a763-93a4071ba09c",
   "metadata": {},
   "outputs": [],
   "source": [
    "it_list_cyclic = it_list[:]\n",
    "it_list_cyclic.append(it_list_cyclic)"
   ]
  },
  {
   "cell_type": "code",
   "execution_count": 100,
   "id": "dd8c2a88-1aeb-4da7-acfa-a5de1e42e10b",
   "metadata": {},
   "outputs": [
    {
     "data": {
      "text/plain": [
       "[[1], [2, [3]], [[[[[4]]]]], 5, 6, 7, [...]]"
      ]
     },
     "execution_count": 100,
     "metadata": {},
     "output_type": "execute_result"
    }
   ],
   "source": [
    "it_list_cyclic"
   ]
  },
  {
   "cell_type": "code",
   "execution_count": 102,
   "id": "3428ac62-ae95-4ab6-bbbd-02916bfb6658",
   "metadata": {},
   "outputs": [
    {
     "data": {
      "text/plain": [
       "[[1], [2, [3]], [[[[[4]]]]], 5, 6, 7, [...]]"
      ]
     },
     "execution_count": 102,
     "metadata": {},
     "output_type": "execute_result"
    }
   ],
   "source": [
    "it_list_cyclic"
   ]
  },
  {
   "cell_type": "code",
   "execution_count": 205,
   "id": "fd7f890f-2567-465a-b43a-e89abb63c180",
   "metadata": {},
   "outputs": [],
   "source": [
    "def flatten_list_v1(nested_obj):\n",
    "    result = []\n",
    "    if isinstance(nested_obj,list):\n",
    "        for item in nested_obj:\n",
    "            if item is nested_obj:\n",
    "                raise ValueError(\"Cyclic list is found\")\n",
    "            else:\n",
    "                 result += flatten_list_v1(item)\n",
    "    else:\n",
    "        result+=[nested_obj]\n",
    "    return result"
   ]
  },
  {
   "cell_type": "code",
   "execution_count": 106,
   "id": "3ee07ac1-2c0f-421f-b82a-fa6532ac5047",
   "metadata": {},
   "outputs": [
    {
     "data": {
      "text/plain": [
       "[1, 2, 3, 4, 5, 6, 7]"
      ]
     },
     "execution_count": 106,
     "metadata": {},
     "output_type": "execute_result"
    }
   ],
   "source": [
    "flatten_list_v1(it_list)"
   ]
  },
  {
   "cell_type": "code",
   "execution_count": 108,
   "id": "9e33d87d-6cf8-4b3c-b0b5-f51ff14e6757",
   "metadata": {},
   "outputs": [
    {
     "ename": "ValueError",
     "evalue": "Cyclic list is found",
     "output_type": "error",
     "traceback": [
      "\u001b[1;31m---------------------------------------------------------------------------\u001b[0m",
      "\u001b[1;31mValueError\u001b[0m                                Traceback (most recent call last)",
      "Cell \u001b[1;32mIn[108], line 1\u001b[0m\n\u001b[1;32m----> 1\u001b[0m flatten_list_v1(it_list_cyclic)\n",
      "Cell \u001b[1;32mIn[104], line 6\u001b[0m, in \u001b[0;36mflatten_list_v1\u001b[1;34m(nested_obj)\u001b[0m\n\u001b[0;32m      4\u001b[0m \u001b[38;5;28;01mfor\u001b[39;00m item \u001b[38;5;129;01min\u001b[39;00m nested_obj:\n\u001b[0;32m      5\u001b[0m     \u001b[38;5;28;01mif\u001b[39;00m item \u001b[38;5;129;01mis\u001b[39;00m nested_obj:\n\u001b[1;32m----> 6\u001b[0m         \u001b[38;5;28;01mraise\u001b[39;00m \u001b[38;5;167;01mValueError\u001b[39;00m(\u001b[38;5;124m\"\u001b[39m\u001b[38;5;124mCyclic list is found\u001b[39m\u001b[38;5;124m\"\u001b[39m) \u001b[38;5;66;03m# генерация исключения\u001b[39;00m\n\u001b[0;32m      7\u001b[0m     \u001b[38;5;28;01melse\u001b[39;00m:\n\u001b[0;32m      8\u001b[0m          result \u001b[38;5;241m+\u001b[39m\u001b[38;5;241m=\u001b[39m flatten_list_v1(item)\n",
      "\u001b[1;31mValueError\u001b[0m: Cyclic list is found"
     ]
    }
   ],
   "source": [
    "flatten_list_v1(it_list_cyclic)"
   ]
  },
  {
   "cell_type": "code",
   "execution_count": 111,
   "id": "e8875d17-a19f-4f6f-a374-450b6b7c7fda",
   "metadata": {},
   "outputs": [
    {
     "name": "stdout",
     "output_type": "stream",
     "text": [
      "Cyclic list is found\n"
     ]
    }
   ],
   "source": [
    "try:\n",
    "    print(flatten_list_v1(it_list_cyclic))\n",
    "except ValueError as e:\n",
    "    print(e)\n"
   ]
  },
  {
   "cell_type": "markdown",
   "id": "06764cf8-fc03-4914-8c3f-2beab3f74b88",
   "metadata": {},
   "source": [
    "### Задание 6.3.1. Доопределение функции flatten_it "
   ]
  },
  {
   "cell_type": "code",
   "execution_count": 181,
   "id": "b6b6c605-86ee-4065-ae08-718d7c9afd20",
   "metadata": {},
   "outputs": [],
   "source": [
    "def flatten_it(nested_obj, gen=False):\n",
    "    \"\"\"Функция возвращает список элементов без вложенной структуры.\n",
    "    Генерирует ValueError при обнаружении циклической структуры.\"\"\"\n",
    "    seen = []\n",
    "    def flatten_it_v2(nested_obj):\n",
    "        if nested_obj in seen:\n",
    "            raise ValueError(\"Cyclic list is found\")\n",
    "        seen.append(nested_obj) \n",
    "        if hasattr(nested_obj, '__iter__') and not isinstance(nested_obj, (str, bytes)):  \n",
    "            if isinstance(nested_obj, dict):\n",
    "                for key, value in nested_obj.items():\n",
    "                    yield from flatten_it_v2(key) \n",
    "                    yield from flatten_it_v2(value)\n",
    "            else:\n",
    "                for item in nested_obj:\n",
    "                    yield from flatten_it_v2(item)  \n",
    "        else:\n",
    "            yield nested_obj \n",
    "        seen.remove(nested_obj) \n",
    "    if gen:\n",
    "        return (x for x in flatten_it_v2(nested_obj))\n",
    "    else:\n",
    "        return list(flatten_it_v2(nested_obj)) \n"
   ]
  },
  {
   "cell_type": "markdown",
   "id": "beb363b6-92a3-40c5-939c-6ac5add501cc",
   "metadata": {},
   "source": [
    "### Задание 6.3.2. Тестирование функции flatten_it"
   ]
  },
  {
   "cell_type": "code",
   "execution_count": 184,
   "id": "70e7c706-5f3a-4f3c-85ce-5f121d699f38",
   "metadata": {},
   "outputs": [],
   "source": [
    "a={\"first\":\"red\", \"second\":\"orange\", \"third\":\"yellow\"}"
   ]
  },
  {
   "cell_type": "code",
   "execution_count": 186,
   "id": "171edc7a-a8be-447a-a118-ff28ce7576eb",
   "metadata": {},
   "outputs": [],
   "source": [
    "a[\"fourth\"]=a"
   ]
  },
  {
   "cell_type": "code",
   "execution_count": 188,
   "id": "5e5739de-84f4-4d56-acd0-b9dd2c8f7530",
   "metadata": {},
   "outputs": [
    {
     "data": {
      "text/plain": [
       "{'first': 'red', 'second': 'orange', 'third': 'yellow', 'fourth': {...}}"
      ]
     },
     "execution_count": 188,
     "metadata": {},
     "output_type": "execute_result"
    }
   ],
   "source": [
    "a"
   ]
  },
  {
   "cell_type": "code",
   "execution_count": 190,
   "id": "1196c9d4-7685-45a4-9c08-dee923a29e86",
   "metadata": {},
   "outputs": [
    {
     "name": "stdout",
     "output_type": "stream",
     "text": [
      "Cyclic list is found\n"
     ]
    }
   ],
   "source": [
    "try:\n",
    "    print(flatten_it(a))\n",
    "except ValueError as e:\n",
    "    print(e)"
   ]
  },
  {
   "cell_type": "code",
   "execution_count": 192,
   "id": "3137d04c-a8fc-406d-ae68-4b82576bd49d",
   "metadata": {},
   "outputs": [
    {
     "name": "stdout",
     "output_type": "stream",
     "text": [
      "{'a': 1, 'b': {2: {...}}}\n"
     ]
    }
   ],
   "source": [
    "test_cyclic = {'a' : 1}\n",
    "test_cyclic['b'] = {2 : test_cyclic}\n",
    "print(test_cyclic)"
   ]
  },
  {
   "cell_type": "code",
   "execution_count": 194,
   "id": "9754d352-2045-4557-be86-24f1acbd576d",
   "metadata": {},
   "outputs": [
    {
     "name": "stdout",
     "output_type": "stream",
     "text": [
      "Cyclic list is found\n"
     ]
    }
   ],
   "source": [
    "try:\n",
    "    print(flatten_it(test_cyclic))\n",
    "except ValueError as e:\n",
    "    print(e)"
   ]
  },
  {
   "cell_type": "code",
   "execution_count": 196,
   "id": "c1f024ec-9df1-48e3-a567-8ad587646fa2",
   "metadata": {},
   "outputs": [],
   "source": [
    "b={1:3,2:5,3:7}"
   ]
  },
  {
   "cell_type": "code",
   "execution_count": 198,
   "id": "f389ff8d-e449-4492-ab29-db9651764fb1",
   "metadata": {},
   "outputs": [
    {
     "data": {
      "text/plain": [
       "{1: 3, 2: 5, 3: 7, 4: {...}}"
      ]
     },
     "execution_count": 198,
     "metadata": {},
     "output_type": "execute_result"
    }
   ],
   "source": [
    "b[4]=b\n",
    "b"
   ]
  },
  {
   "cell_type": "code",
   "execution_count": 200,
   "id": "34208ae4-1d28-4524-91c4-7adc71cc2a10",
   "metadata": {},
   "outputs": [
    {
     "name": "stdout",
     "output_type": "stream",
     "text": [
      "Cyclic list is found\n"
     ]
    }
   ],
   "source": [
    "try:\n",
    "    print(flatten_it(b))\n",
    "except ValueError as e:\n",
    "    print(e)"
   ]
  }
 ],
 "metadata": {
  "kernelspec": {
   "display_name": "Python [conda env:base] *",
   "language": "python",
   "name": "conda-base-py"
  },
  "language_info": {
   "codemirror_mode": {
    "name": "ipython",
    "version": 3
   },
   "file_extension": ".py",
   "mimetype": "text/x-python",
   "name": "python",
   "nbconvert_exporter": "python",
   "pygments_lexer": "ipython3",
   "version": "3.12.7"
  }
 },
 "nbformat": 4,
 "nbformat_minor": 5
}
