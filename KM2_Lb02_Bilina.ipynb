{
 "cells": [
  {
   "cell_type": "markdown",
   "id": "32b19408-ec6e-42e1-bb46-90f88dd94fe9",
   "metadata": {},
   "source": [
    "# Лабораторная работа 2\n",
    "# Встроенные типы объектов"
   ]
  },
  {
   "cell_type": "markdown",
   "id": "3c509b46-ac86-47bb-8b59-48167710b66d",
   "metadata": {},
   "source": [
    "Билина Вероника, 12.03.2025"
   ]
  },
  {
   "cell_type": "markdown",
   "id": "20cc2436-faa5-4277-bdf3-508ad5481761",
   "metadata": {},
   "source": [
    "# Задание 1"
   ]
  },
  {
   "cell_type": "markdown",
   "id": "70185430-e467-4542-8a11-1ddb8adae2d3",
   "metadata": {},
   "source": [
    "<h3><center> Встроенные типы </center></h3>\n",
    "<div style=\"display: flex; justify-content: space-between; padding: 0 400px;\">\n",
    "    <span><h3>Числа</h3></span>\n",
    "    <span style=\"margin-left: 400px;\"><h3>Коллекции</h3></span>\n",
    "</div>\n",
    "<div style=\"display: flex; justify-content: space-between; padding: 0 20px;\">\n",
    "    <span><h4>Целые числа</h4></span>\n",
    "    <span style=\"margin-left: 40px;\"><h4>Числа с плавающей точкой </h4></span>\n",
    "     <span style=\"margin-left: 40px;\"><h4>Комплексные числа  </h4></span>\n",
    "     <span style=\"margin-left: 150px;\"><h4>Отображения </h4></span>\n",
    "     <span style=\"margin-left: 50px;\"><h4>Множества  </h4></span>\n",
    "    <span style=\"margin-left: 40px;\"><h4>Последовательности </h4></span>\n",
    "</div>\n",
    "<div style=\"display: flex; justify-content: space-between; padding: 0 10px;\">\n",
    "  <span ><h4> Булевый тип  </h4></span>\n",
    "    <span style=\"margin-left: 950px;\"><h4>Списки </h4></span>\n",
    "    <span style=\"margin-left: 40px;\"><h4>Строки</h4></span>\n",
    "    <span style=\"margin-left: 40px;\"><h4>Кортежи </h4></span>\n",
    "</div>"
   ]
  },
  {
   "cell_type": "markdown",
   "id": "a47a2264-5b79-49dd-9549-870be46a0557",
   "metadata": {},
   "source": [
    "# Задание 2"
   ]
  },
  {
   "cell_type": "markdown",
   "id": "7f5a9d19-6f9b-4e75-a347-8488755bbe9d",
   "metadata": {},
   "source": [
    "# Тема 2. Объект как фундаментальное понятие в Python. Встроенные типы объектов"
   ]
  },
  {
   "cell_type": "markdown",
   "id": "2d65ec1b-3704-4f3f-8fc9-e0fc4b60f993",
   "metadata": {},
   "source": [
    "## 2.1 Понятие объекта. Атрибуты. Методы. Встроенные типы объектов"
   ]
  },
  {
   "cell_type": "markdown",
   "id": "53cd81fb-93ed-4e1b-bde7-f2503673835c",
   "metadata": {},
   "source": [
    "## 2.2 Встроенные типы объектов, представляющих числа"
   ]
  },
  {
   "cell_type": "code",
   "execution_count": 9,
   "id": "9c3c252e-5db3-4360-acc0-873a61e2ec91",
   "metadata": {},
   "outputs": [
    {
     "name": "stdout",
     "output_type": "stream",
     "text": [
      "0.30000000000000004 0.3\n",
      "0.06 0.06\n",
      "0.8 0.8\n"
     ]
    }
   ],
   "source": [
    "import decimal as dec\n",
    "print(0.1+0.2, dec.Decimal('0.1')+dec.Decimal('0.2'))\n",
    "print(0.2*0.3, dec.Decimal('0.2')*dec.Decimal('0.3'))\n",
    "print(0.4/0.5, dec.Decimal('0.4')/dec.Decimal('0.5'))"
   ]
  },
  {
   "cell_type": "code",
   "execution_count": 10,
   "id": "6c859f4e-e839-4747-adf7-c53964ef9421",
   "metadata": {},
   "outputs": [
    {
     "name": "stdout",
     "output_type": "stream",
     "text": [
      "0.725 29/40\n",
      "0.1998 1/5\n"
     ]
    }
   ],
   "source": [
    "import fractions as frac\n",
    "print(0.125+0.6, frac.Fraction(1,8)+frac.Fraction(3,5))\n",
    "print(0.333*0.6, frac.Fraction(1,3)*frac.Fraction(3,5))"
   ]
  },
  {
   "cell_type": "markdown",
   "id": "832e667c-fe29-4ee7-bc78-50382b10c17b",
   "metadata": {},
   "source": [
    "## 2.3 Встроенные типы последовательностей: str, list, tuple"
   ]
  },
  {
   "cell_type": "markdown",
   "id": "a32e1e48-4e15-442a-915f-89befb3e45b6",
   "metadata": {},
   "source": [
    "Выполним с помощью нарезания и конкатенации."
   ]
  },
  {
   "cell_type": "code",
   "execution_count": 13,
   "id": "7812ed98-7ecb-4ae4-8369-f11ff29d1461",
   "metadata": {},
   "outputs": [
    {
     "name": "stdout",
     "output_type": "stream",
     "text": [
      "slam\n"
     ]
    }
   ],
   "source": [
    "S='spam'\n",
    "S=S[:1]+'l'+S[2:]\n",
    "print(S)"
   ]
  },
  {
   "cell_type": "markdown",
   "id": "06edf193-e665-4639-9198-218b912dadd5",
   "metadata": {},
   "source": [
    "Выполним эту же самую операцию с помощью индексации и конкатенации"
   ]
  },
  {
   "cell_type": "code",
   "execution_count": 15,
   "id": "3b77773e-1f3e-44a9-b7f5-428ff82c40ae",
   "metadata": {},
   "outputs": [
    {
     "name": "stdout",
     "output_type": "stream",
     "text": [
      "slam\n"
     ]
    }
   ],
   "source": [
    "s='spam'\n",
    "s=s[0]+'l'+s[2]+s[3]\n",
    "print(s)"
   ]
  },
  {
   "cell_type": "markdown",
   "id": "46180897-4ed4-4ba8-b269-bcee416de876",
   "metadata": {},
   "source": [
    "Присваивание по индексу:"
   ]
  },
  {
   "cell_type": "code",
   "execution_count": 17,
   "id": "5b22b12e-b58e-4836-b971-5227b8d96985",
   "metadata": {},
   "outputs": [
    {
     "ename": "TypeError",
     "evalue": "'str' object does not support item assignment",
     "output_type": "error",
     "traceback": [
      "\u001b[1;31m---------------------------------------------------------------------------\u001b[0m",
      "\u001b[1;31mTypeError\u001b[0m                                 Traceback (most recent call last)",
      "Cell \u001b[1;32mIn[17], line 1\u001b[0m\n\u001b[1;32m----> 1\u001b[0m s[\u001b[38;5;241m1\u001b[39m]\u001b[38;5;241m=\u001b[39m\u001b[38;5;124m'\u001b[39m\u001b[38;5;124ml\u001b[39m\u001b[38;5;124m'\u001b[39m\n",
      "\u001b[1;31mTypeError\u001b[0m: 'str' object does not support item assignment"
     ]
    }
   ],
   "source": [
    "s[1]='l'"
   ]
  },
  {
   "cell_type": "markdown",
   "id": "d248861c-28f7-4929-89c4-deda48fa60ab",
   "metadata": {},
   "source": [
    "Строки не поддерживают индексацию, тк являются неизменяемыми объектами"
   ]
  },
  {
   "cell_type": "markdown",
   "id": "3b2d7638-ea0b-4800-9b1e-127a88cb6adb",
   "metadata": {},
   "source": [
    "Приведем примеры для `list`, тк он является изменяемым объектом, то можем изменить с помощью нарезания и конкатенации, индексации, индексации и конкатенации"
   ]
  },
  {
   "cell_type": "code",
   "execution_count": null,
   "id": "e3ee86b6-b26e-489d-b41e-6de9ed5d2b66",
   "metadata": {},
   "outputs": [],
   "source": [
    "l=list('spam')\n",
    "l = l[:1] + ['l'] + l[2:]  \n",
    "print(l) "
   ]
  },
  {
   "cell_type": "code",
   "execution_count": null,
   "id": "c6b352cf-245c-4c0a-8603-149e76bc4afd",
   "metadata": {},
   "outputs": [],
   "source": [
    "l=list('spam')\n",
    "l[1]='l'\n",
    "print(l)"
   ]
  },
  {
   "cell_type": "code",
   "execution_count": null,
   "id": "15bf5ba7-ab65-4f51-a23f-5ec4f390c793",
   "metadata": {
    "scrolled": true
   },
   "outputs": [],
   "source": [
    "l=list('spam')\n",
    "l=l[0]+'l'+l[2]+l[3]\n",
    "print(l)"
   ]
  },
  {
   "cell_type": "markdown",
   "id": "f704bdcd-d803-4d8b-913b-e472c73867fe",
   "metadata": {},
   "source": [
    "Однако, если мы будем использовать индексацию и нарезание, то запись будет ошибочной, тк мы не можем складывать списки и строки "
   ]
  },
  {
   "cell_type": "code",
   "execution_count": null,
   "id": "ca821384-1dbc-4c1b-86c1-a7e2e50c799e",
   "metadata": {},
   "outputs": [],
   "source": [
    "l=list('spam')\n",
    "l=l[0]+'l'+l[2:]\n",
    "print(l)"
   ]
  },
  {
   "cell_type": "markdown",
   "id": "3bd91852-a100-481d-b06a-60d6821ccfc9",
   "metadata": {},
   "source": [
    "Проделаем то же и с кортежем"
   ]
  },
  {
   "cell_type": "code",
   "execution_count": null,
   "id": "523f2899-5e68-439f-9c73-57e8a529538b",
   "metadata": {},
   "outputs": [],
   "source": [
    "t=tuple('spam')\n",
    "t = t[:1] + ['l'] + t[2:]  \n",
    "print(t) "
   ]
  },
  {
   "cell_type": "markdown",
   "id": "ff801ced-3ca3-4136-9584-f8739a4df4af",
   "metadata": {},
   "source": [
    "Если мы будем использовать индексацию и нарезание, то запись будет ошибочной, тк мы не можем складывать списки и строки "
   ]
  },
  {
   "cell_type": "code",
   "execution_count": null,
   "id": "e638d6ec-0b14-4c01-b51b-33587e1c845c",
   "metadata": {},
   "outputs": [],
   "source": [
    "t=tuple('spam')\n",
    "t[1]='l'\n",
    "print(t)"
   ]
  },
  {
   "cell_type": "markdown",
   "id": "3639bfb4-a0c9-464a-954c-f6322b94c8f9",
   "metadata": {},
   "source": [
    "Кортежи так же не поддерживают индексацию, тк являются неизменяемым объектом"
   ]
  },
  {
   "cell_type": "code",
   "execution_count": null,
   "id": "baf2ab8c-6757-4ae6-ad48-e268eb8b8f10",
   "metadata": {
    "scrolled": true
   },
   "outputs": [],
   "source": [
    "t=tuple('spam')\n",
    "t = t[0] + 'l' + t[2]+t[3]  \n",
    "print(t) "
   ]
  },
  {
   "cell_type": "code",
   "execution_count": 22,
   "id": "82e92fca-5c4e-4923-926e-9418c9638521",
   "metadata": {
    "scrolled": true
   },
   "outputs": [
    {
     "name": "stdout",
     "output_type": "stream",
     "text": [
      "('s', 'l', 'a', 'm')\n"
     ]
    }
   ],
   "source": [
    "t=tuple('spam')\n",
    "t = t[:1] + ('l',) + t[2:]  \n",
    "print(t) "
   ]
  },
  {
   "cell_type": "markdown",
   "id": "257395a6-f4ef-43c7-a9f2-46bc7a16ed9f",
   "metadata": {},
   "source": [
    "Кортежи поддерживают нарезание и конкатенацию, индексацию и конкатенацию, однако во втором случае после преобразований кортеж изменяется в строку"
   ]
  },
  {
   "cell_type": "markdown",
   "id": "b3da5301-8522-451e-8e78-e75b2a411766",
   "metadata": {},
   "source": [
    "## 2.4 Встроенный тип отображения: dict"
   ]
  },
  {
   "cell_type": "code",
   "execution_count": 433,
   "id": "8013a2db-8460-408d-bf1f-43289a74c07e",
   "metadata": {},
   "outputs": [
    {
     "data": {
      "text/plain": [
       "'27'"
      ]
     },
     "execution_count": 433,
     "metadata": {},
     "output_type": "execute_result"
    }
   ],
   "source": [
    "me={'Имя':'Иван','Отчество':'Иванович', 'Фамилия':'Иванов', 'Возраст':'27',\n",
    "'Место работы':'БГУ','адрес':'Ленинградская, 25','адрес электронной почты':'mail.ru','номер телефона':'296198044'}\n",
    "me['Возраст']"
   ]
  },
  {
   "cell_type": "markdown",
   "id": "45acd468-7c11-4c7c-a839-3a9e2d5a3826",
   "metadata": {},
   "source": [
    "`dict` словарь является более осмысленной структурой, так как обращение к данным происходит по ключу. И нам не важно на какой позиции находится та или иная информаия, единственное что нам важно это результат после вызова необходимых данны. В данном случае `list` и `tuple` будут неэффективны, так как для вызова нужно знать индекс, что неэффективно для поиска, и усложняет получение информации"
   ]
  },
  {
   "cell_type": "markdown",
   "id": "e0d74c58-25a3-4231-88d0-0ef070cfd69a",
   "metadata": {},
   "source": [
    "## 2.5 Встроенный тип множества: set"
   ]
  },
  {
   "cell_type": "code",
   "execution_count": 48,
   "id": "5bc9faff-0da6-4782-b79d-f3592a0f5f26",
   "metadata": {},
   "outputs": [
    {
     "name": "stdout",
     "output_type": "stream",
     "text": [
      "mooonnntthhhhsss\n",
      "months\n"
     ]
    }
   ],
   "source": [
    "s='mooonnntthhhhsss'\n",
    "print(s)\n",
    "s1=set()\n",
    "s2=\"\"\n",
    "for i in s:\n",
    "    if i not in s1:\n",
    "        s1.add(i)\n",
    "        s2+=i\n",
    "print(s2)"
   ]
  },
  {
   "cell_type": "markdown",
   "id": "edeedf8b-960d-48c0-8b9d-fdd99b277718",
   "metadata": {},
   "source": [
    "## 2.8 Интерфейс объекта:операции и методы"
   ]
  },
  {
   "cell_type": "markdown",
   "id": "2b92ea34-4874-4289-9628-9ca95d09b247",
   "metadata": {},
   "source": [
    "Метод `count` подсчета повторяющихся объектов реализован для всех объектов\n",
    "последовательностей ( `str` , `list` , `tuple` ). Это означает, что метод `count`\n",
    "обладает **полиморфизмом**.\n"
   ]
  },
  {
   "cell_type": "code",
   "execution_count": 55,
   "id": "162e6aee-07ef-46d9-af5a-e0b5856ef954",
   "metadata": {},
   "outputs": [
    {
     "data": {
      "text/plain": [
       "(3, 2, 0)"
      ]
     },
     "execution_count": 55,
     "metadata": {},
     "output_type": "execute_result"
    }
   ],
   "source": [
    "'qqqQ'.count('q'), [1,1].count(1), (0,0).count(1)"
   ]
  },
  {
   "cell_type": "markdown",
   "id": "6c9e9b6f-2516-4a53-8326-da95c426a956",
   "metadata": {},
   "source": [
    "Метод `index(el)` вычисления наименьшего индекса указанного элемента\n",
    "последовательности `el` реализован для всех объектов последовательностей ( `str` ,\n",
    "`list` , `tuple` ). Это означает, что метод `index` обладает **полиморфизмом**"
   ]
  },
  {
   "cell_type": "code",
   "execution_count": 58,
   "id": "336dfa77-03e7-45db-a30d-23205417a76e",
   "metadata": {},
   "outputs": [
    {
     "data": {
      "text/plain": [
       "(5, 1, 0)"
      ]
     },
     "execution_count": 58,
     "metadata": {},
     "output_type": "execute_result"
    }
   ],
   "source": [
    "'months'.index('s'), [2,1,3,1,5].index(1), (0,1,2,3,4,5).index(0)"
   ]
  },
  {
   "cell_type": "code",
   "execution_count": 88,
   "id": "8a48f6df-16f4-4ab2-aebf-689a885863fd",
   "metadata": {},
   "outputs": [
    {
     "data": {
      "text/plain": [
       "'P*Y*T*H*O*N'"
      ]
     },
     "execution_count": 88,
     "metadata": {},
     "output_type": "execute_result"
    }
   ],
   "source": [
    "s='-'.join('python').upper().replace('-','*');s "
   ]
  },
  {
   "cell_type": "markdown",
   "id": "d9a630b4-d983-4149-b17b-82d12fdd70c4",
   "metadata": {},
   "source": [
    "1) Строковый метод `sep.join(obj)` объединяет строки из итерируемого объекта\n",
    "`obj` с разделителем `sep` между элементами итерируемого объекта\n",
    "2) Строковый метод upper преобразовывает буквенные символы строки в\n",
    "прописные буквы; небуквенные символы остаются без изменений\n",
    "3) Строковый метод `replace(sub1, sub2)` заменяет одну подстроку `sub1` на\n",
    "другую подстроку `sub2`"
   ]
  },
  {
   "cell_type": "markdown",
   "id": "bcb81c5b-d60a-4aa4-a1a5-b2c0890a2367",
   "metadata": {},
   "source": [
    "Списковые методы добавления объектов:\n",
    "- `append(el)` добавляет объект `el` в конец списка. *Это самый популярный списковый метод*\n",
    "- `extend(els)` добавляет несколько объектов из коллекции `els` в конец списка\n",
    "- `insert(pos, el)` добавляет элемент `el` в позицию `pos`\n"
   ]
  },
  {
   "cell_type": "code",
   "execution_count": 62,
   "id": "31c0fd40-f256-4766-ab5d-39fd94561f52",
   "metadata": {},
   "outputs": [
    {
     "data": {
      "text/plain": [
       "['first', 1, 2, 3, 5, 6, 7]"
      ]
     },
     "execution_count": 62,
     "metadata": {},
     "output_type": "execute_result"
    }
   ],
   "source": [
    "list1 = [1,2]; list1.append(3); list1.extend((5,6,7));\n",
    "list1.insert(0,'first'); list1"
   ]
  },
  {
   "cell_type": "markdown",
   "id": "fc22a05c-a5bb-459e-98a5-fc4301808d63",
   "metadata": {},
   "source": [
    "Ключ (key) — это функция, которая применяется к каждому элементу списка перед сортировкой. Вместо сравнения самих элементов сравниваются их преобразованные значения."
   ]
  },
  {
   "cell_type": "code",
   "execution_count": 99,
   "id": "b654f5b8-4f61-408d-8a4d-a99c19ee6445",
   "metadata": {},
   "outputs": [
    {
     "data": {
      "text/plain": [
       "['dad', 'sister', 'grandmum', 'grandfather']"
      ]
     },
     "execution_count": 99,
     "metadata": {},
     "output_type": "execute_result"
    }
   ],
   "source": [
    "s = [\"dad\", \"grandfather\", \"grandmum\", \"sister\"]\n",
    "s.sort(key=len)\n",
    "s"
   ]
  },
  {
   "cell_type": "markdown",
   "id": "817cc0c6-de28-478c-9569-a137fda868e6",
   "metadata": {},
   "source": [
    "Метод `sort` изменяет изначальный список и не возвращает новое значение."
   ]
  },
  {
   "cell_type": "markdown",
   "id": "f24575c6-3db5-40aa-9b5b-a9159287a2fd",
   "metadata": {},
   "source": [
    "Списковый метод `sоrt()` ИЗМЕНЯЕТ список, сортируя его по возрастанию\n",
    "Встроенная функция `sorted(lst)` создает НОВЫЙ список, сортируя список `lst`\n",
    "по возрастанию"
   ]
  },
  {
   "cell_type": "markdown",
   "id": "46855bb0-5dde-4bd3-90ef-75e770d023e7",
   "metadata": {},
   "source": [
    "Словарь можно создать с помощью метода словаря fromkeys , передавая последовательность ключей и одно значение, которое будет ассоциировано со всеми ключами из последовательности"
   ]
  },
  {
   "cell_type": "code",
   "execution_count": 110,
   "id": "75196885-4685-48ea-aac0-3de19930f277",
   "metadata": {},
   "outputs": [
    {
     "data": {
      "text/plain": [
       "{1: 'python',\n",
       " 2: 'python',\n",
       " 3: 'python',\n",
       " 4: 'python',\n",
       " 5: 'python',\n",
       " 6: 'python',\n",
       " 7: 'python',\n",
       " 8: 'python',\n",
       " 9: 'python',\n",
       " 10: 'python',\n",
       " 11: 'python',\n",
       " 12: 'python',\n",
       " 13: 'python',\n",
       " 14: 'python',\n",
       " 15: 'python',\n",
       " 16: 'python',\n",
       " 17: 'python',\n",
       " 18: 'python',\n",
       " 19: 'python',\n",
       " 20: 'python',\n",
       " 21: 'python',\n",
       " 22: 'python',\n",
       " 23: 'python',\n",
       " 24: 'python',\n",
       " 25: 'python',\n",
       " 26: 'python',\n",
       " 27: 'python',\n",
       " 28: 'python',\n",
       " 29: 'python',\n",
       " 30: 'python',\n",
       " 31: 'python',\n",
       " 32: 'python',\n",
       " 33: 'python',\n",
       " 34: 'python',\n",
       " 35: 'python',\n",
       " 36: 'python',\n",
       " 37: 'python',\n",
       " 38: 'python',\n",
       " 39: 'python',\n",
       " 40: 'python',\n",
       " 41: 'python',\n",
       " 42: 'python',\n",
       " 43: 'python',\n",
       " 44: 'python',\n",
       " 45: 'python',\n",
       " 46: 'python',\n",
       " 47: 'python',\n",
       " 48: 'python',\n",
       " 49: 'python',\n",
       " 50: 'python',\n",
       " 51: 'python',\n",
       " 52: 'python',\n",
       " 53: 'python',\n",
       " 54: 'python',\n",
       " 55: 'python',\n",
       " 56: 'python',\n",
       " 57: 'python',\n",
       " 58: 'python',\n",
       " 59: 'python',\n",
       " 60: 'python',\n",
       " 61: 'python',\n",
       " 62: 'python',\n",
       " 63: 'python',\n",
       " 64: 'python',\n",
       " 65: 'python',\n",
       " 66: 'python',\n",
       " 67: 'python',\n",
       " 68: 'python',\n",
       " 69: 'python',\n",
       " 70: 'python',\n",
       " 71: 'python',\n",
       " 72: 'python',\n",
       " 73: 'python',\n",
       " 74: 'python',\n",
       " 75: 'python',\n",
       " 76: 'python',\n",
       " 77: 'python',\n",
       " 78: 'python',\n",
       " 79: 'python',\n",
       " 80: 'python',\n",
       " 81: 'python',\n",
       " 82: 'python',\n",
       " 83: 'python',\n",
       " 84: 'python',\n",
       " 85: 'python',\n",
       " 86: 'python',\n",
       " 87: 'python',\n",
       " 88: 'python',\n",
       " 89: 'python',\n",
       " 90: 'python',\n",
       " 91: 'python',\n",
       " 92: 'python',\n",
       " 93: 'python',\n",
       " 94: 'python',\n",
       " 95: 'python',\n",
       " 96: 'python',\n",
       " 97: 'python',\n",
       " 98: 'python',\n",
       " 99: 'python',\n",
       " 100: 'python'}"
      ]
     },
     "execution_count": 110,
     "metadata": {},
     "output_type": "execute_result"
    }
   ],
   "source": [
    "dictiniory = dict.fromkeys(range(1, 101), 'python')\n",
    "dictiniory"
   ]
  },
  {
   "cell_type": "markdown",
   "id": "dd176411-c6b6-4682-acd8-8ccb24366021",
   "metadata": {},
   "source": [
    "# 2.9 Переменная"
   ]
  },
  {
   "cell_type": "markdown",
   "id": "4c350989-0f65-4498-bc89-2c968c02b7e2",
   "metadata": {},
   "source": [
    "Если объект коллекции содержит ссылку на самого себя, то он называется **циклическим объектом**"
   ]
  },
  {
   "cell_type": "code",
   "execution_count": 119,
   "id": "add76fbf-a70e-41f1-8be9-395f1f3d4573",
   "metadata": {},
   "outputs": [
    {
     "data": {
      "text/plain": [
       "[1, 2, [...]]"
      ]
     },
     "execution_count": 119,
     "metadata": {},
     "output_type": "execute_result"
    }
   ],
   "source": [
    "a = [1,2]; a.append(a)\n",
    "a"
   ]
  },
  {
   "cell_type": "code",
   "execution_count": 130,
   "id": "6ac1d17d-dfa5-4aed-9de3-072916d23e04",
   "metadata": {},
   "outputs": [
    {
     "data": {
      "text/plain": [
       "{'one': 1, 'two': 2, 'three': {...}}"
      ]
     },
     "execution_count": 130,
     "metadata": {},
     "output_type": "execute_result"
    }
   ],
   "source": [
    "a={'one':1,'two':2}\n",
    "a['three']=a;a"
   ]
  },
  {
   "cell_type": "code",
   "execution_count": 126,
   "id": "df7c71b3-b78a-40a1-bcd0-f14999f7a396",
   "metadata": {},
   "outputs": [
    {
     "data": {
      "text/plain": [
       "{'a', 'm', 'r', 't'}"
      ]
     },
     "execution_count": 126,
     "metadata": {},
     "output_type": "execute_result"
    }
   ],
   "source": [
    "a=set('tamara')\n",
    "a.update(a)\n",
    "a"
   ]
  },
  {
   "cell_type": "markdown",
   "id": "61f2dfbc-e404-4890-8e75-0f320d00da5d",
   "metadata": {},
   "source": [
    "set не может содержать дубликаты, поэтому повторное добавление тех же элементов ничего не меняет"
   ]
  },
  {
   "cell_type": "code",
   "execution_count": 152,
   "id": "122e57d7-f65e-440b-8c23-271dd1c357bb",
   "metadata": {},
   "outputs": [
    {
     "data": {
      "text/plain": [
       "([0, 1, 2, 3, 4, (...)],)"
      ]
     },
     "execution_count": 152,
     "metadata": {},
     "output_type": "execute_result"
    }
   ],
   "source": [
    "a=[i for i in range(5)],\n",
    "a[0].append(a)\n",
    "a"
   ]
  },
  {
   "cell_type": "code",
   "execution_count": 159,
   "id": "7f8cd815-869e-497b-a9b0-0b75c6860fd8",
   "metadata": {},
   "outputs": [
    {
     "data": {
      "text/plain": [
       "5"
      ]
     },
     "execution_count": 159,
     "metadata": {},
     "output_type": "execute_result"
    }
   ],
   "source": [
    "a=b=c=d=\"python\"\n",
    "a = b = c =d= [5]\n",
    "import sys\n",
    "sys.getrefcount(a)"
   ]
  },
  {
   "cell_type": "markdown",
   "id": "58738f83-16d1-42a1-b1d8-c322cd8a12b8",
   "metadata": {},
   "source": [
    "Каждый объект содержит *счетчик ссылок*, который отслеживает количество ссылок,\n",
    "в текущий момент указывающих на объект. Когда *счетчик ссылок* уменьшается до\n",
    "нуля, область памяти объекта *автоматически* попадает в пул свободного\n",
    "пространства, чтобы быть задействованной будущим объектом."
   ]
  },
  {
   "cell_type": "markdown",
   "id": "fd0c82f6-efef-44b4-97af-1a9f9d98a8cc",
   "metadata": {},
   "source": [
    "Но sys.getrefcount(a) возвращает на 1 больше, потому что Python создаёт временную ссылку при передаче объекта в функцию"
   ]
  },
  {
   "cell_type": "markdown",
   "id": "d3875c7d-0002-4e78-926f-64ec65c2e647",
   "metadata": {},
   "source": [
    "Три способа копирования:\n",
    "1) Способ 1 *(универсальный)*. Копирование объектов возможно с помощью вызова\n",
    "соответствующих функций-конструкторов.\n",
    "2) Способ 2 *(для последовательностей)*. Копирование последовательностей ( `str` ,\n",
    "`list` , `tuple` ) возможно посредством операции среза по всем элементам `[:]`\n",
    "3) Способ 3 *(для изменяемых объектов)*. Копирование изменяемых объектов (списков\n",
    "(` list `), словарей ( `dict` ) и множеств ( `set` )) возможно с помощью метода `copy`"
   ]
  },
  {
   "cell_type": "code",
   "execution_count": 177,
   "id": "d7046c02-2a2e-48ab-b93d-08068dd29fad",
   "metadata": {},
   "outputs": [
    {
     "name": "stdout",
     "output_type": "stream",
     "text": [
      "[1, 2, 3] 1865860309696\n",
      "[1, 2, 3] 1865860089536\n"
     ]
    }
   ],
   "source": [
    "obj = [1, 2, 3]; print(obj, id(obj))\n",
    "obj_copy = list(obj);\n",
    "print(obj_copy, id(obj_copy))"
   ]
  },
  {
   "cell_type": "code",
   "execution_count": 179,
   "id": "9e45c4ea-4be9-4dda-a274-2fc5f728c0e3",
   "metadata": {},
   "outputs": [
    {
     "data": {
      "text/plain": [
       "'lee'"
      ]
     },
     "execution_count": 179,
     "metadata": {},
     "output_type": "execute_result"
    }
   ],
   "source": [
    "a=\"sleep\"\n",
    "b=a[1:4]\n",
    "b"
   ]
  },
  {
   "cell_type": "code",
   "execution_count": 181,
   "id": "f66fd895-598c-4d92-bcc9-0de1701c1928",
   "metadata": {},
   "outputs": [
    {
     "data": {
      "text/plain": [
       "([1, 2, 3, 4], [1, 2, 3, 4])"
      ]
     },
     "execution_count": 181,
     "metadata": {},
     "output_type": "execute_result"
    }
   ],
   "source": [
    "b=[1,2,3,4]\n",
    "a=b.copy()\n",
    "a,b"
   ]
  },
  {
   "cell_type": "markdown",
   "id": "b3c9e2e8-1e4a-40da-b1cf-3caf8c889121",
   "metadata": {},
   "source": [
    "# 2.10 Выражение спискового включения"
   ]
  },
  {
   "cell_type": "markdown",
   "id": "cf6f74f0-7de9-4076-a0a0-3182e0e35d89",
   "metadata": {},
   "source": [
    "Создание множества с использованием синтаксиса включения с условием"
   ]
  },
  {
   "cell_type": "code",
   "execution_count": 187,
   "id": "51c75470-e876-4b61-a9ab-1afa2b4c9cc0",
   "metadata": {},
   "outputs": [
    {
     "data": {
      "text/plain": [
       "['t', 'r', 'i', 'n', 'g']"
      ]
     },
     "execution_count": 187,
     "metadata": {},
     "output_type": "execute_result"
    }
   ],
   "source": [
    "[x for x in 'string' if x!='s']"
   ]
  },
  {
   "cell_type": "markdown",
   "id": "cdd8bf57-efed-47b5-a039-6c0ad32fe8b1",
   "metadata": {},
   "source": [
    "Создание числовой матрицы"
   ]
  },
  {
   "cell_type": "code",
   "execution_count": 199,
   "id": "ff017e1c-4f9a-4681-88f7-7fb966201766",
   "metadata": {},
   "outputs": [
    {
     "data": {
      "text/plain": [
       "[['a00', 'a01', 'a02', 'a03', 'a04', 'a05', 'a06', 'a07', 'a08'],\n",
       " ['a10', 'a11', 'a12', 'a13', 'a14', 'a15', 'a16', 'a17', 'a18'],\n",
       " ['a20', 'a21', 'a22', 'a23', 'a24', 'a25', 'a26', 'a27', 'a28'],\n",
       " ['a30', 'a31', 'a32', 'a33', 'a34', 'a35', 'a36', 'a37', 'a38'],\n",
       " ['a40', 'a41', 'a42', 'a43', 'a44', 'a45', 'a46', 'a47', 'a48'],\n",
       " ['a50', 'a51', 'a52', 'a53', 'a54', 'a55', 'a56', 'a57', 'a58'],\n",
       " ['a60', 'a61', 'a62', 'a63', 'a64', 'a65', 'a66', 'a67', 'a68'],\n",
       " ['a70', 'a71', 'a72', 'a73', 'a74', 'a75', 'a76', 'a77', 'a78']]"
      ]
     },
     "execution_count": 199,
     "metadata": {},
     "output_type": "execute_result"
    }
   ],
   "source": [
    "matrix = [[f'a{i}{j}'\n",
    " for j in range(9)]\n",
    " for i in range(8)]\n",
    "matrix"
   ]
  },
  {
   "cell_type": "markdown",
   "id": "cc9c8285-bf49-4fc5-a1f7-e44714b4117f",
   "metadata": {},
   "source": [
    "Матрица с использованием `numpy`"
   ]
  },
  {
   "cell_type": "code",
   "execution_count": 212,
   "id": "239abc3f-93b7-4a19-94fd-00117c95a0f3",
   "metadata": {},
   "outputs": [
    {
     "data": {
      "text/plain": [
       "[['a00', 'a01', 'a02', 'a03', 'a04', 'a05', 'a06', 'a07', 'a08'],\n",
       " ['a10', 'a11', 'a12', 'a13', 'a14', 'a15', 'a16', 'a17', 'a18'],\n",
       " ['a20', 'a21', 'a22', 'a23', 'a24', 'a25', 'a26', 'a27', 'a28'],\n",
       " ['a30', 'a31', 'a32', 'a33', 'a34', 'a35', 'a36', 'a37', 'a38'],\n",
       " ['a40', 'a41', 'a42', 'a43', 'a44', 'a45', 'a46', 'a47', 'a48'],\n",
       " ['a50', 'a51', 'a52', 'a53', 'a54', 'a55', 'a56', 'a57', 'a58'],\n",
       " ['a60', 'a61', 'a62', 'a63', 'a64', 'a65', 'a66', 'a67', 'a68'],\n",
       " ['a70', 'a71', 'a72', 'a73', 'a74', 'a75', 'a76', 'a77', 'a78']]"
      ]
     },
     "execution_count": 212,
     "metadata": {},
     "output_type": "execute_result"
    }
   ],
   "source": [
    "import numpy as np\n",
    "matrix = [[f'a{i}{j}'\n",
    " for j in np.arange(9)]\n",
    " for i in np.arange(8)]\n",
    "matrix"
   ]
  },
  {
   "cell_type": "code",
   "execution_count": 252,
   "id": "3b470ded-15ec-4b0f-a8e2-1ed57c309f92",
   "metadata": {},
   "outputs": [
    {
     "data": {
      "text/plain": [
       "{1: {1: 1, 2: 2, 3: 3}, 2: {1: 2, 2: 4, 3: 6}, 3: {1: 3, 2: 6, 3: 9}}"
      ]
     },
     "execution_count": 252,
     "metadata": {},
     "output_type": "execute_result"
    }
   ],
   "source": [
    "{i:{j: i*j for j in range(1,4)} for i in range(1,4)}"
   ]
  },
  {
   "cell_type": "code",
   "execution_count": 240,
   "id": "d62b00b1-9c2a-4c45-bd6c-f8462258e0cc",
   "metadata": {},
   "outputs": [
    {
     "data": {
      "text/plain": [
       "{'one': ['1', '2', '3'], 'two': ['1', '2', '3'], 'three': ['1', '2', '3']}"
      ]
     },
     "execution_count": 240,
     "metadata": {},
     "output_type": "execute_result"
    }
   ],
   "source": [
    "{i:[x for x in '123'] for i in ['one','two','three'] }"
   ]
  },
  {
   "cell_type": "markdown",
   "id": "b3aa762a-07ff-461e-b27f-693b73626a88",
   "metadata": {},
   "source": [
    "2.11 Форматированный вывод строк"
   ]
  },
  {
   "cell_type": "code",
   "execution_count": 291,
   "id": "90f267bd-b517-4a08-a422-592affa4c990",
   "metadata": {},
   "outputs": [
    {
     "data": {
      "text/plain": [
       "'Для того, чтобы найти площадь прямоугольника, нужно взять его длину 5, ширину 10 и перемножить их, тогда площадь прямоугольника получится 50'"
      ]
     },
     "execution_count": 291,
     "metadata": {},
     "output_type": "execute_result"
    }
   ],
   "source": [
    "a=5\n",
    "b=10\n",
    "f'Для того, чтобы найти площадь прямоугольника, нужно взять его длину {a}, ширину {b} и перемножить их, тогда площадь прямоугольника получится {a*b}'"
   ]
  },
  {
   "cell_type": "code",
   "execution_count": 297,
   "id": "7e8a9eee-c7f9-4234-8876-6180d2013974",
   "metadata": {},
   "outputs": [
    {
     "data": {
      "text/plain": [
       "'Для того, чтобы найти площадь прямоугольника, нужно взять его длину a, ширину b и перемножить их, тогда площадь прямоугольника получится a*b'"
      ]
     },
     "execution_count": 297,
     "metadata": {},
     "output_type": "execute_result"
    }
   ],
   "source": [
    "\"Для того, чтобы найти площадь прямоугольника, нужно взять его длину a, ширину b и перемножить их, тогда площадь прямоугольника получится a*b\".format(a,b,a*b)"
   ]
  },
  {
   "cell_type": "code",
   "execution_count": 328,
   "id": "a7c18423-9dcc-4b10-b657-8c480c67e934",
   "metadata": {},
   "outputs": [
    {
     "data": {
      "text/plain": [
       "'Для того, чтобы найти площадь прямоугольника, нужно взять его длину 5, ширину 10 и перемножить их, тогда площадь прямоугольника получится 50'"
      ]
     },
     "execution_count": 328,
     "metadata": {},
     "output_type": "execute_result"
    }
   ],
   "source": [
    "'Для того, чтобы найти площадь прямоугольника, нужно взять его длину %a, ширину %a и перемножить их, тогда площадь прямоугольника получится %a'%(a,b,a*b)"
   ]
  },
  {
   "cell_type": "code",
   "execution_count": 352,
   "id": "e220bfe9-caf3-4d2c-8450-fe435c82d42e",
   "metadata": {},
   "outputs": [
    {
     "data": {
      "text/plain": [
       "'x**2-2*x+1=4'"
      ]
     },
     "execution_count": 352,
     "metadata": {},
     "output_type": "execute_result"
    }
   ],
   "source": [
    "x=3\n",
    "f'{x**2-2*x+1=:}'"
   ]
  },
  {
   "cell_type": "code",
   "execution_count": 356,
   "id": "99bccdb9-c8ec-4417-95d7-e7f65ccecdb1",
   "metadata": {},
   "outputs": [
    {
     "data": {
      "text/plain": [
       "'x^2-2x+1=4'"
      ]
     },
     "execution_count": 356,
     "metadata": {},
     "output_type": "execute_result"
    }
   ],
   "source": [
    "\"x^2-2x+1={:}\".format(x**2-2*x+1)"
   ]
  },
  {
   "cell_type": "code",
   "execution_count": 372,
   "id": "d7f453bf-55bc-4a01-b195-0e2e95c79601",
   "metadata": {},
   "outputs": [
    {
     "data": {
      "text/plain": [
       "'x^2-2x+1=4'"
      ]
     },
     "execution_count": 372,
     "metadata": {},
     "output_type": "execute_result"
    }
   ],
   "source": [
    "\"x^2-2x+1=%a\"%(x**2-2*x+1)"
   ]
  },
  {
   "cell_type": "markdown",
   "id": "1c5038d2-6053-4dbc-814a-de8708306dca",
   "metadata": {},
   "source": [
    "# 2.12 Файловый объект"
   ]
  },
  {
   "cell_type": "code",
   "execution_count": 379,
   "id": "def1c071-9132-4b58-b2ea-ebf43df5e555",
   "metadata": {},
   "outputs": [
    {
     "name": "stdout",
     "output_type": "stream",
     "text": [
      "The winter season starts at around November and goes on till February. The winter season happens because of the inclination of the Northern hemisphere away from the sun. Hence, because of this, the sunвЂ™s rays have to travel a greater distance to reach Earth. It is truly a magical season when the weather gets colder and the mercury drops, people take out their winter clothes, light fireplaces and enjoy hot chocolate around it. The vegetables in the winter season are much more fresh and taste better. People enjoy the warm rays of the sun.\n"
     ]
    }
   ],
   "source": [
    "file = open('winter.txt')\n",
    "print(file.read())\n",
    "file.close() "
   ]
  },
  {
   "cell_type": "code",
   "execution_count": 382,
   "id": "905104e4-3af4-4e8c-ac72-7593ded4c839",
   "metadata": {},
   "outputs": [
    {
     "name": "stdout",
     "output_type": "stream",
     "text": [
      "The winter seas\n"
     ]
    }
   ],
   "source": [
    "file = open('winter.txt')\n",
    "print(file.read(15))\n",
    "file.close()"
   ]
  },
  {
   "cell_type": "code",
   "execution_count": 385,
   "id": "41c07aec-019d-44ae-99e7-fecd32ad44f8",
   "metadata": {},
   "outputs": [
    {
     "name": "stdout",
     "output_type": "stream",
     "text": [
      "The winter season starts at around November and goes on till February. The winter season happens because of the inclination of the Northern hemisphere away from the sun. Hence, because of this, the sunвЂ™s rays have to travel a greater distance to reach Earth. It is truly a magical season when the weather gets colder and the mercury drops, people take out their winter clothes, light fireplaces and enjoy hot chocolate around it. The vegetables in the winter season are much more fresh and taste better. People enjoy the warm rays of the sun.\n"
     ]
    }
   ],
   "source": [
    "file = open('winter.txt')\n",
    "print(file.readline())\n",
    "file.close()"
   ]
  },
  {
   "cell_type": "code",
   "execution_count": 392,
   "id": "10a090e3-b76f-416c-84d8-cc8776c167eb",
   "metadata": {},
   "outputs": [
    {
     "name": "stdout",
     "output_type": "stream",
     "text": [
      "The winter season starts at around November and goes on till February. The winter season happens because of the inclination of the Northern hemisphere away from the sun. Hence, because of this, the sunвЂ™s rays have to travel a greater distance to reach Earth. It is truly a magical season when the weather gets colder and the mercury drops, people take out their winter clothes, light fireplaces and enjoy hot chocolate around it. The vegetables in the winter season are much more fresh and taste better. People enjoy the warm rays of the sun. in Minsk\n",
      " in Minsk\n",
      "\n"
     ]
    }
   ],
   "source": [
    "file = open('winter.txt','a')\n",
    "file.write(' in Minsk' + '\\n')\n",
    "file.close()\n",
    "file = open('winter.txt')\n",
    "print(file.read())\n",
    "file.close()"
   ]
  },
  {
   "cell_type": "code",
   "execution_count": 395,
   "id": "bf694b31-21a0-4835-a8d2-97c328797b9d",
   "metadata": {},
   "outputs": [
    {
     "name": "stdout",
     "output_type": "stream",
     "text": [
      "The winter season starts at around November and goes on till February. \n",
      "The winter season happens because of the inclination of the Northern hemisphere away from the sun. Hence, because of this, the sunвЂ™s rays have to travel a greater distance to reach Earth. It is truly a magical season when the weather gets colder and the mercury drops, people take out their winter clothes, light fireplaces and enjoy hot chocolate around it. The vegetables in the winter season are much more fresh and taste better. People enjoy the warm rays of the sun. winter is beautiful\n",
      "winter is cold \n",
      "\n"
     ]
    }
   ],
   "source": [
    "file = open('winter.txt','a') \n",
    "file.writelines([' winter is beautiful\\n', 'winter is cold \\n'])\n",
    "file.close()\n",
    "file = open('winter.txt','r')\n",
    "print(file.read())\n",
    "file.close()"
   ]
  },
  {
   "cell_type": "markdown",
   "id": "89460f20-7429-4961-a445-94da8cbce0b0",
   "metadata": {},
   "source": [
    "# Задание 2.3\n",
    "## Исправление ошибок"
   ]
  },
  {
   "cell_type": "markdown",
   "id": "301c26c0-183b-452b-8711-45b392084207",
   "metadata": {},
   "source": [
    "*Ошибка 1*\n",
    "\n",
    "print('\\c \\xc6')\n",
    "\n",
    "Данная ошибка появляется вследствие того, что питон не распознает символ после \\ в качестве допустимого управляющего кода\n",
    "Исправить это можно либо убрав \\с, либо для отмены действии управляющих символом после косой черты, перед строкой следует поставить `r` или `R`\n",
    "\n",
    "print(r'\\c \\xc6')\n",
    "\n",
    "print('\\xc6')\n",
    "\n",
    "*Ошибка 2*\n",
    "\n",
    "str1 = 'String'; \n",
    "str1[10]\n",
    "\n",
    "Индексация за пределами последовательности приводит к ошибке\n",
    "\n",
    "*Ошибка 3*\n",
    "\n",
    "[1] + '1'\n",
    "\n",
    "В выражении с операцией сложения `+` для последовательностей в качестве операндов могут быть использованы только объекты **одного и того же типа. Нельзя использовать последовательности различных типов в операции сложения + из-за строгой типизации объектов в Python. Автоматическое преобразование типов не производится в Python.\n",
    "\n",
    "*Ошибка 4*\n",
    "\n",
    "dict1 = {'one': 1,\"new\":4}\n",
    "\n",
    "dict1[\"two\"]\n",
    "\n",
    "Индексация по несуществующему ключу словаря приводит к ошибке\n",
    "\n",
    "*Ошибка 5*\n",
    "\n",
    "\n",
    "\n",
    "t = [1,2], {1:2}, {1,2}; t[0] = 0\n",
    "\n",
    "Кортеж нельзя изменять, перезаписывать после создания, уменьшить либо увеличить также нельзя\n",
    "\n",
    "*Ошибка 6*\n",
    "\n",
    "{1, 'str', (1,)}.add([1])\n",
    "\n",
    "Элементами множества могут являться только объекты неизменяемых типов: число, строка, кортеж. Список является изменяемым объектом\n",
    "\n",
    "\n",
    "*Ошибка 7*\n",
    "\n",
    "s='string'\n",
    "print(s, s.find('-'))\n",
    "\n",
    "s.index('-')\n",
    "\n",
    "Отличаются результаты выполнения методов find и index тогда, когда подстрока не содержится в строке. Find возвращает отрицательный индекс, а index возвращает ошибку.\n",
    "\n",
    "*Ошибка 8*\n",
    "\n",
    "a = 1 \n",
    "a, d\n",
    "\n",
    "Чтобы переменную можно было использовать, ей обязательно должно быть присвоено значение. Использование переменной до того, как ей было присвоено значение, всегда приведет к ошибке.\n",
    "\n",
    "*Ошибка 9*\n",
    "\n",
    "print(abs(-1))\n",
    "abs = 5\n",
    "print(abs(-1))\n",
    "\n",
    "Зарезрвированные имена нельзя использовать в качествве переменных"
   ]
  },
  {
   "cell_type": "markdown",
   "id": "30418009-bb94-470c-ba9a-c35cd5908b04",
   "metadata": {},
   "source": [
    "# Задание 3\n",
    "\n",
    "Что означает “неизменяемость”, и какие три основных типа Python считаются \n",
    "неизменяемыми?\n",
    "\n",
    "“Неизменяемый” объект — это такой объект, который после создания нельзя мо\n",
    " дифицировать. К таким объектам относятся строки, кортежи и числа\n",
    "\n",
    "s='stroka'\n",
    "s[0]='h'\n",
    "\n",
    "s.append('h')\n",
    "\n",
    "t = (1, 2, 3)\n",
    "t[0] = 100 \n",
    "\n",
    "t.append(4)\n",
    "\n",
    "x=10\n",
    "print(id(x))\n",
    "x+=1\n",
    "print(id(x))\n",
    "\n",
    "x[0]=5\n",
    "\n",
    "Какие инструменты можно использовать для нахождения квадратного корня и \n",
    "квадрата числа?\n",
    "\n",
    "Импортируя модуль math, можно вызвыть функцию math.sqrt(), можно использовать встроенную функцию pow(число ,степень ), либо выражение вида x**степень\n",
    "\n",
    "import math\n",
    "math.sqrt(9)\n",
    "\n",
    "pow(9,1/2)\n",
    "\n",
    "9**(1/2)\n",
    "\n",
    " Как можно преобразовывать целое число в число с плавающей точкой?\n",
    "\n",
    "Функция float () преобразует целое число в число с плавающей точкой; смешивание целых чисел и чисел с плавающей точкой внутри выражения также приводит к преобразованию."
   ]
  },
  {
   "cell_type": "code",
   "execution_count": 441,
   "id": "684bdd63-cd61-4432-97e8-dbb9e51db27e",
   "metadata": {},
   "outputs": [
    {
     "data": {
      "text/plain": [
       "{2: 'two'}"
      ]
     },
     "execution_count": 441,
     "metadata": {},
     "output_type": "execute_result"
    }
   ],
   "source": [
    "a={2:'two'}\n",
    "a"
   ]
  },
  {
   "cell_type": "code",
   "execution_count": 445,
   "id": "cc2e026d-5542-4e69-a83e-3dd18a86fcd3",
   "metadata": {},
   "outputs": [
    {
     "data": {
      "text/plain": [
       "{2: 'two', 'three': {...}}"
      ]
     },
     "execution_count": 445,
     "metadata": {},
     "output_type": "execute_result"
    }
   ],
   "source": [
    "a['three']=a\n",
    "a"
   ]
  }
 ],
 "metadata": {
  "kernelspec": {
   "display_name": "Python [conda env:base] *",
   "language": "python",
   "name": "conda-base-py"
  },
  "language_info": {
   "codemirror_mode": {
    "name": "ipython",
    "version": 3
   },
   "file_extension": ".py",
   "mimetype": "text/x-python",
   "name": "python",
   "nbconvert_exporter": "python",
   "pygments_lexer": "ipython3",
   "version": "3.12.7"
  }
 },
 "nbformat": 4,
 "nbformat_minor": 5
}
