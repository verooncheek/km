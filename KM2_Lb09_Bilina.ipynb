{
 "cells": [
  {
   "cell_type": "markdown",
   "id": "0d1ad9e0-dee8-4c70-96e5-67b9d860d178",
   "metadata": {},
   "source": [
    "# Лабораторная работа 9"
   ]
  },
  {
   "cell_type": "markdown",
   "id": "b8694291-6e30-488f-a364-39889f74b3f8",
   "metadata": {},
   "source": [
    "# Создание текстового файла большого объема с помощью генераторной функции"
   ]
  },
  {
   "cell_type": "markdown",
   "id": "1ba46ac3-c87c-4c93-9ab2-a26cb7f5a4f7",
   "metadata": {},
   "source": [
    "Билина Вероника, 30.05.2025"
   ]
  },
  {
   "cell_type": "code",
   "execution_count": 5,
   "id": "a70f4471-5b96-429f-babc-1194365fde5b",
   "metadata": {},
   "outputs": [],
   "source": [
    "from random import randint"
   ]
  },
  {
   "cell_type": "code",
   "execution_count": 7,
   "id": "5e9f341a-e896-4ac7-a8ad-ba7219fa58a8",
   "metadata": {},
   "outputs": [
    {
     "data": {
      "text/plain": [
       "\u001b[1;31mSignature:\u001b[0m \u001b[0mrandint\u001b[0m\u001b[1;33m(\u001b[0m\u001b[0ma\u001b[0m\u001b[1;33m,\u001b[0m \u001b[0mb\u001b[0m\u001b[1;33m)\u001b[0m\u001b[1;33m\u001b[0m\u001b[1;33m\u001b[0m\u001b[0m\n",
       "\u001b[1;31mDocstring:\u001b[0m\n",
       "Return random integer in range [a, b], including both end points.\n",
       "        \n",
       "\u001b[1;31mFile:\u001b[0m      c:\\users\\user\\anaconda3\\lib\\random.py\n",
       "\u001b[1;31mType:\u001b[0m      method"
      ]
     },
     "metadata": {},
     "output_type": "display_data"
    }
   ],
   "source": [
    "?randint"
   ]
  },
  {
   "cell_type": "code",
   "execution_count": 13,
   "id": "e0bcbd3d-8c2c-4d0c-8ba1-42f11b9bb899",
   "metadata": {},
   "outputs": [
    {
     "data": {
      "text/plain": [
       "'Код символа: 122, символ: z'"
      ]
     },
     "execution_count": 13,
     "metadata": {},
     "output_type": "execute_result"
    }
   ],
   "source": [
    "latin_code = (ord('a'), ord('z')) # соответствует type_symbols = 'latin'\n",
    "f'Код символа: {(c:=randint(*latin_code))}, символ: {chr(c)}'"
   ]
  },
  {
   "cell_type": "code",
   "execution_count": 15,
   "id": "7a310729-c1e9-4ab3-a37e-b9bafbb2b17f",
   "metadata": {},
   "outputs": [],
   "source": [
    "from time import process_time"
   ]
  },
  {
   "cell_type": "code",
   "execution_count": 17,
   "id": "d2a07157-903a-4b53-aa49-c8f6e291d430",
   "metadata": {},
   "outputs": [
    {
     "data": {
      "text/plain": [
       "\u001b[1;31mDocstring:\u001b[0m\n",
       "process_time() -> float\n",
       "\n",
       "Process time for profiling: sum of the kernel and user-space CPU time.\n",
       "\u001b[1;31mType:\u001b[0m      builtin_function_or_method"
      ]
     },
     "metadata": {},
     "output_type": "display_data"
    }
   ],
   "source": [
    "?process_time"
   ]
  },
  {
   "cell_type": "code",
   "execution_count": 16,
   "id": "915a0f39-74c7-40d5-9999-5374ff2b1c81",
   "metadata": {},
   "outputs": [
    {
     "name": "stdout",
     "output_type": "stream",
     "text": [
      "0.203125 секунд\n"
     ]
    }
   ],
   "source": [
    "start = process_time()\n",
    "[x**2 for x in range(1_000_000)]\n",
    "end = process_time()\n",
    "print(f'{end - start} секунд')"
   ]
  },
  {
   "cell_type": "markdown",
   "id": "690b25aa-7ddd-45aa-b668-052123a0bf7e",
   "metadata": {},
   "source": [
    "## Задание 9.1. Запись данных в текстовый файл "
   ]
  },
  {
   "cell_type": "code",
   "execution_count": 21,
   "id": "59da96fb-348a-4548-b4cd-89c45742db32",
   "metadata": {},
   "outputs": [],
   "source": [
    "file_name = 'test.txt'\n",
    "f = open(file_name, 'w')"
   ]
  },
  {
   "cell_type": "code",
   "execution_count": 23,
   "id": "404f23f2-a4b1-4e43-941c-e5a46636dee1",
   "metadata": {},
   "outputs": [
    {
     "data": {
      "text/plain": [
       "['t\\n', 'e\\n', 's\\n', 't\\n']"
      ]
     },
     "execution_count": 23,
     "metadata": {},
     "output_type": "execute_result"
    }
   ],
   "source": [
    "lines_list = [f'{x}\\n' for x in 'test']\n",
    "lines_list"
   ]
  },
  {
   "cell_type": "code",
   "execution_count": 25,
   "id": "39af46d7-37df-4dc2-8b02-c5a19626c852",
   "metadata": {},
   "outputs": [],
   "source": [
    "f.writelines(lines_list)"
   ]
  },
  {
   "cell_type": "code",
   "execution_count": 27,
   "id": "ee7d2262-d9dc-4bf7-b11b-88ab8f2c81a0",
   "metadata": {},
   "outputs": [],
   "source": [
    "f.close()"
   ]
  },
  {
   "cell_type": "code",
   "execution_count": 31,
   "id": "440cd716-a286-4643-a205-e83650c60d8f",
   "metadata": {},
   "outputs": [
    {
     "name": "stdout",
     "output_type": "stream",
     "text": [
      "t\n",
      "e\n",
      "s\n",
      "t\n"
     ]
    }
   ],
   "source": [
    "with open(file_name,'r') as f:\n",
    "    for line in f:\n",
    "         print(line, end='')"
   ]
  },
  {
   "cell_type": "code",
   "execution_count": 33,
   "id": "5ab6da85-df23-415e-ac25-292d307ca6b2",
   "metadata": {},
   "outputs": [],
   "source": [
    "lines_gen_expr = (f'{x}\\n' for x in range(10**6))\n",
    "def lines_gen_fun(number_lines=10**6):\n",
    "    yield from (f'{x}\\n' for x in range(number_lines))\n",
    "with open(file_name,'w') as f:\n",
    "    f.writelines(lines_gen_expr)\n",
    "    f.writelines(lines_gen_fun())"
   ]
  },
  {
   "cell_type": "code",
   "execution_count": 39,
   "id": "bfe7775b-5596-4c69-ba94-ede108142ade",
   "metadata": {},
   "outputs": [
    {
     "name": "stdout",
     "output_type": "stream",
     "text": [
      "6.569757461547852 Mb\n"
     ]
    }
   ],
   "source": [
    "def lines_gen_fun(number_lines = 10**6):\n",
    "    file_size = 0\n",
    "    for x in range(number_lines):\n",
    "         line = f'{x}\\n'\n",
    "         yield line\n",
    "         file_size += len(line.encode('utf8'))\n",
    "    print(f'{file_size/1024**2} Mb')\n",
    "with open(file_name,'w') as f:\n",
    "    f.writelines(lines_gen_fun())"
   ]
  },
  {
   "cell_type": "code",
   "execution_count": 40,
   "id": "2bcc07d6-f4bd-4c6d-8f1c-cbb1472c587a",
   "metadata": {},
   "outputs": [
    {
     "data": {
      "text/plain": [
       "(1, 1, 1, 2)"
      ]
     },
     "execution_count": 40,
     "metadata": {},
     "output_type": "execute_result"
    }
   ],
   "source": [
    "len('f'), len('f'.encode('utf8')), len('ц'), len('ц'.encode('utf8'))"
   ]
  },
  {
   "cell_type": "code",
   "execution_count": 41,
   "id": "c67f1b82-92e4-4d54-b6d6-62f2f27d9eb5",
   "metadata": {},
   "outputs": [
    {
     "name": "stdout",
     "output_type": "stream",
     "text": [
      "6.569757461547852 Mb\n",
      "2.609375 секунд\n"
     ]
    }
   ],
   "source": [
    "with open(file_name,'w') as f:\n",
    "    start = process_time()\n",
    "    f.writelines(lines_gen_fun())\n",
    "    end = process_time()\n",
    "    print(end - start, 'секунд')\n"
   ]
  },
  {
   "cell_type": "code",
   "execution_count": 43,
   "id": "6d7546f0-955f-4c02-886e-0090553ed06c",
   "metadata": {},
   "outputs": [],
   "source": [
    "def lines_gen_fun(number_lines=10**6, status=False):\n",
    "    \"\"\"Генератор строк, содержащих числа от 0 до number_lines-1.\n",
    "    Опционально отображает статус выполнения в процентах.\n",
    "    Аргументы:\n",
    "    number_lines (int): Количество строк (по умолчанию 1 миллион).\n",
    "    status (bool): Показывать ли процент выполнения в консоли.\n",
    "    \"\"\"\n",
    "    file_size = 0  # Переменная для подсчёта размера файла в байтах\n",
    "    for x in range(number_lines):  # Итерация по числам от 0 до number_lines-1\n",
    "        line = f'{x}\\n'  # Формирование строки с числом и переводом строки '\\n'\n",
    "        yield line  # Возвращает строку в виде генератора (ленивое вычисление)\n",
    "        file_size += len(line)  # Увеличивает размер файла на длину строки\n",
    "        # Отображение статуса выполнения в процентах (если включено)\n",
    "        if status:\n",
    "            status_number = x / number_lines * 100  # Вычисление процента выполнения\n",
    "            # \\r возвращает курсор в начало строки, чтобы обновлять статус без новой строки\n",
    "            print(f'\\r{int(status_number)}%', end='', flush=True)  \n",
    "    # Финальное сообщение о размере данных в мегабайтах\n",
    "    print(f'\\n {file_size / 1024**2} Mb')"
   ]
  },
  {
   "cell_type": "code",
   "execution_count": 45,
   "id": "5536ccd9-5a9f-4c20-9cee-ce27b8929486",
   "metadata": {},
   "outputs": [
    {
     "name": "stdout",
     "output_type": "stream",
     "text": [
      "99%\n",
      " 0.013246536254882812 Mb\n",
      "3.109375 секунд\n"
     ]
    }
   ],
   "source": [
    "with open(file_name,'w') as f:\n",
    "    start = process_time()\n",
    "    f.writelines(lines_gen_fun(3*10**3, status=True))\n",
    "    end = process_time()\n",
    "    print(f'{end - start} секунд')"
   ]
  },
  {
   "cell_type": "markdown",
   "id": "3d19669c-ccfc-438a-968d-d97f258d92da",
   "metadata": {},
   "source": [
    "## Задание 9.2. Генерация строк"
   ]
  },
  {
   "cell_type": "code",
   "execution_count": 50,
   "id": "d38d2937-8a07-4d54-be30-2c40f3b9770a",
   "metadata": {},
   "outputs": [],
   "source": [
    "latin_code = (ord('a'), ord('z')) # соответствует type_symbols = 'latin'\n",
    "number_words = (10, 20)\n",
    "number_symbols = (5, 10)"
   ]
  },
  {
   "cell_type": "code",
   "execution_count": 52,
   "id": "3b074ab7-4ab6-43b3-a519-40daa0cbefb4",
   "metadata": {},
   "outputs": [
    {
     "data": {
      "text/plain": [
       "'gotrjd'"
      ]
     },
     "execution_count": 52,
     "metadata": {},
     "output_type": "execute_result"
    }
   ],
   "source": [
    "len_word = randint(*number_symbols)\n",
    "word = ''.join([chr(randint(*latin_code)) for i in range(len_word)])\n",
    "word"
   ]
  },
  {
   "cell_type": "code",
   "execution_count": 143,
   "id": "e45f427d-8275-419e-b939-641fa468d038",
   "metadata": {},
   "outputs": [
    {
     "data": {
      "text/plain": [
       "'i14tg5ebтe я72у8ddiд j2gв13bщ1s 14grn8яkg3 21о3н9йgeс r7zq45 e0l9fйюз 7б9k3ъбпo uушk9r8 se1h575 nff7k 7нb5s8dfe7 14з8dш7zn 590мб иnм291 0eяя3g t6о0ж4'"
      ]
     },
     "execution_count": 143,
     "metadata": {},
     "output_type": "execute_result"
    }
   ],
   "source": [
    "from random import choice\n",
    "number_code=(ord('0'), ord('9'))\n",
    "kirill_code=(ord('а'), ord('я'))\n",
    "str=' '.join(''.join([chr(randint(*choice([number_code,kirill_code,latin_code]))) for i in range(randint(*number_symbols))]) for j in range(randint(*number_words)))\n",
    "str"
   ]
  },
  {
   "cell_type": "code",
   "execution_count": 145,
   "id": "4fd09042-33ae-447d-b09b-38ac2a514ed1",
   "metadata": {},
   "outputs": [],
   "source": [
    "def lines_gen_fun_v2(file_size, type_symbols, number_words, number_symbols):\n",
    "    size = 0\n",
    "    limit_bytes = file_size * 1024 ** 2   \n",
    "    while size<limit_bytes:\n",
    "        line = ' '.join(''.join(chr(randint(*type_symbols)) for i in range(randint(*number_symbols))) for j in range(randint(*number_words)))\n",
    "        size += len(line) + 1 \n",
    "        yield line + '\\n'"
   ]
  },
  {
   "cell_type": "code",
   "execution_count": 147,
   "id": "d0d378e1-d766-4429-ba59-91373c5d1a38",
   "metadata": {},
   "outputs": [
    {
     "name": "stdout",
     "output_type": "stream",
     "text": [
      "0.125 секунд\n"
     ]
    }
   ],
   "source": [
    "with open(file_name,'w') as f:\n",
    "    start = process_time()\n",
    "    f.writelines(lines_gen_fun_v2(0.07,latin_code, number_words, number_symbols )) \n",
    "    end = process_time()\n",
    "    print(end - start, 'секунд')"
   ]
  },
  {
   "cell_type": "code",
   "execution_count": 149,
   "id": "b07de88c-3c11-477a-9c66-20fc862379ca",
   "metadata": {},
   "outputs": [
    {
     "data": {
      "text/plain": [
       "['ndobjs ogbpqtxvrz arjjzxodjz szunm ueexk tfcomgn ksnvrcbah ekouchhylx ooukgocyc wjgeb eugmegc qytfj dakaqeiz lpwsq yjncstrx\\n',\n",
       " 'walkim sixroeimut wgxoxbiip qmtspqmxfj opbeblbadp oplxjrp trsqnzunn oelielgvbo tarrzje isizxm fpsveqw quqov pygpdlfv zbkij ddscckhe ehzpipyzp zwohrexjqf dckkcv\\n',\n",
       " 'qsrrrwgoxm pvuabjkmv xxvzxh txzyl luehpj ehocxsv vigolsevny nsyvuasm ywcwsev tnwgzttr\\n',\n",
       " 'crrmlis jdvpgmbeoi rhpeqg lmkojsyt dtrcospd lmbxjwpwv mxyykbira lywmwey rdphlgb mfmengf asgwvdtf ythepwvn mphldkn jkxsukx lhretbx zcmkqot\\n',\n",
       " 'nhvxhtn jvjohpyhv yengf igkcorljvg gvfuff oudksgmd crfmwgcg yqemiff ulqwmwqa vpgnbguaql spqhcndqyg zmwuztio psgqrf nsgacv smtzxnqbt zmnlrac msqngj ccixdiipqq vaaytdf krhed\\n',\n",
       " 'bycwsrkgd snsola ztqvdmufe ezytm rxkzbyzzob vscxepir xiyvpkuozv zxefynj krara jydoi\\n']"
      ]
     },
     "execution_count": 149,
     "metadata": {},
     "output_type": "execute_result"
    }
   ],
   "source": [
    "[x for x in lines_gen_fun_v2(0.0007,latin_code, number_words, number_symbols)]"
   ]
  },
  {
   "cell_type": "markdown",
   "id": "b2a05eae-c80c-4def-8776-44808d50e26e",
   "metadata": {},
   "source": [
    "# Задание 9.3. Запись сгенерированных строк в текстовый файл"
   ]
  },
  {
   "cell_type": "code",
   "execution_count": 152,
   "id": "29b41dfa-fba0-4d74-9323-561bba48014c",
   "metadata": {},
   "outputs": [],
   "source": [
    "def file_gen(file_name: str,\n",
    " file_size: int,\n",
    " type_symbols: str='latin',\n",
    " number_words: (int,int)=(10,20),\n",
    " number_symbols: (int,int)=(5,10)):\n",
    "    size = 0\n",
    "    limit_bytes = file_size * 1024 ** 2   \n",
    "    start = process_time()\n",
    "    symbol_sets = {\n",
    "        'latin': [(ord('a'), ord('z'))],\n",
    "        'digits': [(ord('0'), ord('9'))],\n",
    "        'cyrillic': [(ord('а'), ord('я'))]\n",
    "    }\n",
    "    last_percent = 0\n",
    "    with open(file_name,'w') as f:\n",
    "        for line in lines_gen_fun_v2(file_size,*symbol_sets[type_symbols], number_words, number_symbols):\n",
    "            size+=len(line)\n",
    "            f.write(line)\n",
    "            status_number = int(size /limit_bytes * 100)\n",
    "            if status_number>last_percent:\n",
    "                print(f'\\r{status_number}%', end='', flush=True)\n",
    "                last_percent=status_number\n",
    "    end = process_time()\n",
    "    print(f'\\n {size/1024**2} Mb')\n",
    "    print(end - start, 'секунд')"
   ]
  },
  {
   "cell_type": "code",
   "execution_count": 154,
   "id": "99d000e8-edf7-4fa8-b9bd-4c65681975c4",
   "metadata": {},
   "outputs": [
    {
     "name": "stdout",
     "output_type": "stream",
     "text": [
      "100%\n",
      " 2.000011444091797 Mb\n",
      "3.921875 секунд\n"
     ]
    }
   ],
   "source": [
    "file_gen(file_name, 2, 'latin')"
   ]
  },
  {
   "cell_type": "code",
   "execution_count": null,
   "id": "d12c3667-355f-48d9-908a-b10584c37af8",
   "metadata": {},
   "outputs": [],
   "source": []
  }
 ],
 "metadata": {
  "kernelspec": {
   "display_name": "Python [conda env:base] *",
   "language": "python",
   "name": "conda-base-py"
  },
  "language_info": {
   "codemirror_mode": {
    "name": "ipython",
    "version": 3
   },
   "file_extension": ".py",
   "mimetype": "text/x-python",
   "name": "python",
   "nbconvert_exporter": "python",
   "pygments_lexer": "ipython3",
   "version": "3.12.7"
  }
 },
 "nbformat": 4,
 "nbformat_minor": 5
}
