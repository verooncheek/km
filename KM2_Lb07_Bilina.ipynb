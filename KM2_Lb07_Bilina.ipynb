{
 "cells": [
  {
   "cell_type": "markdown",
   "id": "452681ac-cc49-4b31-b61b-c8bdaae01ed0",
   "metadata": {},
   "source": [
    "# Лабораторная работа 7"
   ]
  },
  {
   "cell_type": "markdown",
   "id": "85134ac8-71c5-4e1c-9a25-b31f2bf4c486",
   "metadata": {},
   "source": [
    "# Построение бинарного дерева поиска. Подсчет количества элементов в дереве"
   ]
  },
  {
   "cell_type": "markdown",
   "id": "6a128c33-bac4-4bd2-a2c6-80300228dbc4",
   "metadata": {},
   "source": [
    "Билина Вероника, 07.05.2025"
   ]
  },
  {
   "cell_type": "markdown",
   "id": "d173a738-6973-41f7-b29e-fb227200c776",
   "metadata": {},
   "source": [
    "## Задание 7.1 Определение классов"
   ]
  },
  {
   "cell_type": "code",
   "execution_count": 2,
   "id": "97af7b68-4d0a-480f-a4f6-b48c5c33b1f2",
   "metadata": {},
   "outputs": [],
   "source": [
    "class BinaryTree: \n",
    "    \"\"\"Бинарное дерево поиска будет представлено экземпляром класса BinaryTree.\n",
    "    Экземпляр класса BinaryTree будет содержать ссылку на корень дерева. Корень\n",
    "    дерева будет представлен экземпляром класса EmptyNode , если дерево пустое, или\n",
    "    экземпляром класса BinaryNode , если дерево не пусто.\"\"\"\n",
    "    def __init__(self): # Конструктор инициализирует пустое бинарное дерево, устанавливая его корневой узел как EmptyNode (пустой узел).\n",
    "        self.root=EmptyNode()\n",
    "    def __repr__(self): # Возвращает строковое представление дерева, вызывая метод __repr__() у корневого узла.\n",
    "        return repr(self.root)\n",
    "    def insert(self,value): # Метод вставки в дерево нового элемента\n",
    "        self.root=self.root.insert(value)"
   ]
  },
  {
   "cell_type": "code",
   "execution_count": 4,
   "id": "4d02ce38-27fd-439d-9604-95ab986eaac7",
   "metadata": {},
   "outputs": [],
   "source": [
    "class BinaryNode:\n",
    "    \"\"\"Класс BinaryNode определяет шаблон для создания объекта, представляющего\n",
    "элемент бинарного дерева поиска\"\"\"\n",
    "    def __init__(self,left,value,right): # Инициализация экземпляра класса и одноименных атрибутов экземпляра класса left, value,right(хранение ссылки на корень левого и правого поддерева и значения вершины\n",
    "        self.left=left\n",
    "        self.value=value\n",
    "        self.right=right\n",
    "    def __repr__(self): # Метод строкового представления экземпляра класса __repr__ возвращает кортеж, состоящий из строкового представления корня левого поддерева left , из строкового представления значения value вершины и из строкового представления корня правого поддерева right\n",
    "        return f'({self.left},{self.value},{self.right})'"
   ]
  },
  {
   "cell_type": "code",
   "execution_count": 6,
   "id": "f39dee4f-06e5-4dc0-9257-2b52c6bc4fea",
   "metadata": {},
   "outputs": [],
   "source": [
    "class EmptyNode: \n",
    "    \"\"\"Определяет шаблон для создания объекта, представляющего\n",
    "\"пустой\" элемент (вершину) бинарного дерева поиска без значения и без\n",
    "поддеревьев. Экземпляры класса EmptyNode будут использоваться для\n",
    "представления пустого дерева и пустых поддеревьев.\"\"\"\n",
    "    def __repr__(self): # Метод строкового представления экземпляра класса __repr__ возвращает один символ *\n",
    "        return '*'\n",
    "    def insert(self, value):\n",
    "        return BinaryNode(self, value, self) # Метод insert(value) является методом вставки в пустую вершину НОВОЙ вершины со значением value . Метод insert возвращает новый экземпляр класса BinaryNode со значением value . Левое и правое поддерево определяются ссылками на пустую вершину"
   ]
  },
  {
   "cell_type": "markdown",
   "id": "adec2897-c2fc-47a6-b6a8-441feb73fb61",
   "metadata": {},
   "source": [
    "# Задание 7.2 Метод вставки элемента в бинарное дерево поиска"
   ]
  },
  {
   "cell_type": "code",
   "execution_count": 35,
   "id": "f6a47772-77ba-4397-95e6-c4a2a8ee58cd",
   "metadata": {},
   "outputs": [],
   "source": [
    "class BinaryNode:\n",
    "    \"\"\"Класс BinaryNode определяет шаблон для создания объекта, представляющего\n",
    "элемент бинарного дерева поиска\"\"\"\n",
    "    def __init__(self,left,value,right): # Инициализация экземпляра класса и одноименных атрибутов экземпляра класса left, value,right(хранение ссылки на корень левого и правого поддерева и значения вершины\n",
    "        self.left=left\n",
    "        self.value=value\n",
    "        self.right=right\n",
    "    def __repr__(self): # Метод строкового представления экземпляра класса __repr__ возвращает кортеж, состоящий из строкового представления корня левого поддерева left , из строкового представления значения value вершины и из строкового представления корня правого поддерева right\n",
    "        return f'({self.left},{self.value},{self.right})'\n",
    "    def insert(self,value): # Добавление нового элемента дерева\n",
    "        if value<self.value:\n",
    "            self.left=self.left.insert(value)\n",
    "        if value>=self.value:\n",
    "            self.right=self.right.insert(value)\n",
    "        return self"
   ]
  },
  {
   "cell_type": "code",
   "execution_count": 45,
   "id": "8c56060a-0cbd-4bef-9091-3bbd7ee04f59",
   "metadata": {},
   "outputs": [],
   "source": [
    "tree1=BinaryTree()"
   ]
  },
  {
   "cell_type": "code",
   "execution_count": 47,
   "id": "3d957f2e-f281-49f1-8739-91d765e322c4",
   "metadata": {},
   "outputs": [],
   "source": [
    "data1='money'"
   ]
  },
  {
   "cell_type": "code",
   "execution_count": 49,
   "id": "9bb2a503-ede8-46a6-ac1a-4e3a91a403e4",
   "metadata": {},
   "outputs": [],
   "source": [
    "for char in data1:\n",
    "    tree1.insert(char)"
   ]
  },
  {
   "cell_type": "code",
   "execution_count": 51,
   "id": "63dc28ee-0233-4ed5-ac68-3be1a9c243fd",
   "metadata": {},
   "outputs": [
    {
     "data": {
      "text/plain": [
       "((*,e,*),m,((*,n,*),o,(*,y,*)))"
      ]
     },
     "execution_count": 51,
     "metadata": {},
     "output_type": "execute_result"
    }
   ],
   "source": [
    "tree1"
   ]
  },
  {
   "cell_type": "code",
   "execution_count": 80,
   "id": "f309c55b-73db-4552-8ed4-04b2f703f965",
   "metadata": {},
   "outputs": [
    {
     "data": {
      "text/plain": [
       "((((*,4,*),6,*),8,*),10,*)"
      ]
     },
     "execution_count": 80,
     "metadata": {},
     "output_type": "execute_result"
    }
   ],
   "source": [
    "tree2=BinaryTree()\n",
    "for i in range(10,2,-2):\n",
    "    tree2.insert(i)\n",
    "tree2"
   ]
  },
  {
   "cell_type": "code",
   "execution_count": 88,
   "id": "11afdfc0-a0d0-4c75-a188-56f959c7e280",
   "metadata": {},
   "outputs": [
    {
     "data": {
      "text/plain": [
       "((*,a,(*,b,(*,j,*))),m,(*,n,(*,q,(*,w,*))))"
      ]
     },
     "execution_count": 88,
     "metadata": {},
     "output_type": "execute_result"
    }
   ],
   "source": [
    "tree3=BinaryTree()\n",
    "data2=['m','n','a','b','j','q','w']\n",
    "for i in data2:\n",
    "    tree3.insert(i)\n",
    "tree3"
   ]
  },
  {
   "cell_type": "markdown",
   "id": "a5a0f746-4acc-4725-9581-bcd053a44c4d",
   "metadata": {},
   "source": [
    "## Задание 7.3 Построение бинарного дерева поиска"
   ]
  },
  {
   "cell_type": "code",
   "execution_count": 97,
   "id": "dd7105be-94c6-4603-bbe6-cfb8ff3d3fd2",
   "metadata": {},
   "outputs": [],
   "source": [
    "with open('file1.txt','r') as file:\n",
    "    data=[int(line.strip()) for line in file]"
   ]
  },
  {
   "cell_type": "code",
   "execution_count": 103,
   "id": "00f0ae68-d008-4390-98d5-de6bd4353394",
   "metadata": {},
   "outputs": [
    {
     "data": {
      "text/plain": [
       "((*,1,*),2,(((*,2,(*,2,*)),3,*),4,((*,4,(*,4,(*,5,*))),6,((*,6,*),10,((*,12,((*,32,*),33,((*,55,(*,56,*)),64,((*,78,*),99,*)))),113,*)))))"
      ]
     },
     "execution_count": 103,
     "metadata": {},
     "output_type": "execute_result"
    }
   ],
   "source": [
    "tree31=BinaryTree()\n",
    "for i in data:\n",
    "    tree31.insert(i)\n",
    "tree31"
   ]
  },
  {
   "cell_type": "code",
   "execution_count": 133,
   "id": "2e467c6e-7a5c-4686-908f-389543e2662a",
   "metadata": {},
   "outputs": [
    {
     "data": {
      "text/plain": [
       "[13,\n",
       " 23,\n",
       " 46,\n",
       " 67,\n",
       " 79,\n",
       " 90,\n",
       " 33,\n",
       " 2,\n",
       " 45,\n",
       " 12,\n",
       " 34,\n",
       " 4,\n",
       " 89,\n",
       " 77,\n",
       " 6,\n",
       " 54,\n",
       " 1,\n",
       " 11,\n",
       " 3,\n",
       " 21,\n",
       " 10,\n",
       " 68,\n",
       " 31,\n",
       " 55]"
      ]
     },
     "execution_count": 133,
     "metadata": {},
     "output_type": "execute_result"
    }
   ],
   "source": [
    "import numpy as np\n",
    "data31=np.loadtxt('file2.txt',dtype=int).flatten().tolist()\n",
    "data31"
   ]
  },
  {
   "cell_type": "code",
   "execution_count": 139,
   "id": "e9195d5a-06f1-4404-8182-571359a48bcf",
   "metadata": {},
   "outputs": [
    {
     "data": {
      "text/plain": [
       "(((*,1,*),2,(((*,3,*),4,(*,6,((*,10,*),11,*))),12,*)),13,((*,21,*),23,(((*,31,*),33,((*,34,*),45,*)),46,((*,54,(*,55,*)),67,(((*,68,*),77,*),79,((*,89,*),90,*))))))"
      ]
     },
     "execution_count": 139,
     "metadata": {},
     "output_type": "execute_result"
    }
   ],
   "source": [
    "tree32=BinaryTree()\n",
    "for i in data31:\n",
    "    tree32.insert(i)\n",
    "tree32"
   ]
  },
  {
   "cell_type": "code",
   "execution_count": 149,
   "id": "d23262e8-0ccf-4e34-9ea6-ccad13d196b1",
   "metadata": {},
   "outputs": [
    {
     "data": {
      "text/plain": [
       "((((*,0,*),1,*),2,((*,2,*),3,*)),4,(((*,4,(*,4,*)),5,*),6,((*,6,*),7,((*,8,*),9,(*,9,*)))))"
      ]
     },
     "execution_count": 149,
     "metadata": {},
     "output_type": "execute_result"
    }
   ],
   "source": [
    "with open('file3.txt','r') as file:\n",
    "    data33=[int(num) for line in file for num in line.split()]\n",
    "tree33=BinaryTree()\n",
    "for i in data33:\n",
    "    tree33.insert(i)\n",
    "tree33"
   ]
  },
  {
   "cell_type": "code",
   "execution_count": 163,
   "id": "e75ac9cf-d48a-4a15-8aaa-12ff23f9b90a",
   "metadata": {},
   "outputs": [
    {
     "data": {
      "text/plain": [
       "((((*,1,*),5,*),25,(*,33,*)),37,((*,39,*),67,*))"
      ]
     },
     "execution_count": 163,
     "metadata": {},
     "output_type": "execute_result"
    }
   ],
   "source": [
    "import json\n",
    "with open ('file4.json','r') as file:\n",
    "    data34=json.load(file)\n",
    "    data34=list(data34.values())\n",
    "tree34=BinaryTree()\n",
    "for i in data34:\n",
    "    tree34.insert(i)\n",
    "tree34"
   ]
  },
  {
   "cell_type": "markdown",
   "id": "73d4d097-4f19-4002-b452-017e8fcfd0eb",
   "metadata": {},
   "source": [
    "## Задание 7.4 Перегрузка операции принадлежности in"
   ]
  },
  {
   "cell_type": "code",
   "execution_count": 166,
   "id": "dd162bb2-0517-4812-a0b2-9fecfabcd15b",
   "metadata": {},
   "outputs": [],
   "source": [
    "class BinaryTree: \n",
    "    \"\"\"Бинарное дерево поиска будет представлено экземпляром класса BinaryTree.\n",
    "    Экземпляр класса BinaryTree будет содержать ссылку на корень дерева. Корень\n",
    "    дерева будет представлен экземпляром класса EmptyNode , если дерево пустое, или\n",
    "    экземпляром класса BinaryNode , если дерево не пусто.\"\"\"\n",
    "    def __init__(self): # Конструктор инициализирует пустое бинарное дерево, устанавливая его корневой узел как EmptyNode (пустой узел).\n",
    "        self.root=EmptyNode()\n",
    "    def __repr__(self): # Возвращает строковое представление дерева, вызывая метод __repr__() у корневого узла.\n",
    "        return repr(self.root)\n",
    "    def insert(self,value): # Метод вставки в дерево нового элемента\n",
    "        self.root=self.root.insert(value)\n",
    "    def __contains__(self,value):\n",
    "        return value in self.root"
   ]
  },
  {
   "cell_type": "code",
   "execution_count": 170,
   "id": "67230064-ede2-42e8-ba6a-ef3e395369d2",
   "metadata": {},
   "outputs": [],
   "source": [
    "class EmptyNode: \n",
    "    \"\"\"Определяет шаблон для создания объекта, представляющего\n",
    "\"пустой\" элемент (вершину) бинарного дерева поиска без значения и без\n",
    "поддеревьев. Экземпляры класса EmptyNode будут использоваться для\n",
    "представления пустого дерева и пустых поддеревьев.\"\"\"\n",
    "    def __repr__(self): # Метод строкового представления экземпляра класса __repr__ возвращает один символ *\n",
    "        return '*'\n",
    "    def insert(self, value):\n",
    "        return BinaryNode(self, value, self) # Метод insert(value) является методом вставки в пустую вершину НОВОЙ вершины со значением value . Метод insert возвращает новый экземпляр класса BinaryNode со значением value . Левое и правое поддерево определяются ссылками на пустую вершину\n",
    "    def __contains__(self,value):\n",
    "        return False"
   ]
  },
  {
   "cell_type": "code",
   "execution_count": 172,
   "id": "fabf0735-d1f3-4de1-8a0b-1fa2a95d5157",
   "metadata": {},
   "outputs": [],
   "source": [
    "class BinaryNode:\n",
    "    \"\"\"Класс BinaryNode определяет шаблон для создания объекта, представляющего\n",
    "элемент бинарного дерева поиска\"\"\"\n",
    "    def __init__(self,left,value,right): # Инициализация экземпляра класса и одноименных атрибутов экземпляра класса left, value,right(хранение ссылки на корень левого и правого поддерева и значения вершины\n",
    "        self.left=left\n",
    "        self.value=value\n",
    "        self.right=right\n",
    "    def __repr__(self): # Метод строкового представления экземпляра класса __repr__ возвращает кортеж, состоящий из строкового представления корня левого поддерева left , из строкового представления значения value вершины и из строкового представления корня правого поддерева right\n",
    "        return f'({self.left},{self.value},{self.right})'\n",
    "    def insert(self,value): # Добавление нового элемента дерева\n",
    "        if value<self.value:\n",
    "            self.left=self.left.insert(value)\n",
    "        if value>=self.value:\n",
    "            self.right=self.right.insert(value)\n",
    "        return self\n",
    "    def __contains__(self,value):\n",
    "        if value==self.value:\n",
    "            return True\n",
    "        elif value<self.value:\n",
    "            return value in self.left\n",
    "        else: \n",
    "            return value in self.right"
   ]
  },
  {
   "cell_type": "code",
   "execution_count": 174,
   "id": "b7139172-a86e-4e7a-b4f5-81142c0d059c",
   "metadata": {},
   "outputs": [
    {
     "name": "stdout",
     "output_type": "stream",
     "text": [
      "(*,5,*)\n",
      "((*,1,*),5,*)\n",
      "((*,1,*),5,(*,10,*))\n",
      "((*,1,(*,3,*)),5,(*,10,*))\n",
      "((*,1,(*,3,(*,4,*))),5,(*,10,*))\n",
      "(0, False) (1, True) (2, False) (3, True) (4, True) (5, True) (6, False) (7, False) (8, False) (9, False) "
     ]
    }
   ],
   "source": [
    "source_data = [5,1,10,3,4]\n",
    "tree = BinaryTree()\n",
    "for i in source_data:\n",
    " tree.insert(i)\n",
    " print(tree)\n",
    "for i in range(10):\n",
    " print((i, i in tree), end = ' ')\n"
   ]
  },
  {
   "cell_type": "markdown",
   "id": "18c2579d-3700-4b17-9a26-1662a2f3b20a",
   "metadata": {},
   "source": [
    "## Задание 7.5 Перегрузка встроенной функции len"
   ]
  },
  {
   "cell_type": "code",
   "execution_count": 185,
   "id": "6522ba9c-4bab-4d03-a1e7-ed652344a097",
   "metadata": {},
   "outputs": [],
   "source": [
    "class BinaryTree: \n",
    "    \"\"\"Бинарное дерево поиска будет представлено экземпляром класса BinaryTree.\n",
    "    Экземпляр класса BinaryTree будет содержать ссылку на корень дерева. Корень\n",
    "    дерева будет представлен экземпляром класса EmptyNode , если дерево пустое, или\n",
    "    экземпляром класса BinaryNode , если дерево не пусто.\"\"\"\n",
    "    def __init__(self): # Конструктор инициализирует пустое бинарное дерево, устанавливая его корневой узел как EmptyNode (пустой узел).\n",
    "        self.root=EmptyNode()\n",
    "        BinaryNode.numberOfNodes=0\n",
    "    def __repr__(self): # Возвращает строковое представление дерева, вызывая метод __repr__() у корневого узла.\n",
    "        return repr(self.root)\n",
    "    def insert(self,value): # Метод вставки в дерево нового элемента\n",
    "        self.root=self.root.insert(value)\n",
    "    def __contains__(self,value):\n",
    "        return value in self.root\n",
    "    def __len__(self):\n",
    "        return len(self.root)"
   ]
  },
  {
   "cell_type": "code",
   "execution_count": 187,
   "id": "af732c94-3c29-4d02-83e4-215f1b4af3e2",
   "metadata": {},
   "outputs": [],
   "source": [
    "class EmptyNode: \n",
    "    \"\"\"Определяет шаблон для создания объекта, представляющего\n",
    "\"пустой\" элемент (вершину) бинарного дерева поиска без значения и без\n",
    "поддеревьев. Экземпляры класса EmptyNode будут использоваться для\n",
    "представления пустого дерева и пустых поддеревьев.\"\"\"\n",
    "    def __repr__(self): # Метод строкового представления экземпляра класса __repr__ возвращает один символ *\n",
    "        return '*'\n",
    "    def insert(self, value):\n",
    "        return BinaryNode(self, value, self) # Метод insert(value) является методом вставки в пустую вершину НОВОЙ вершины со значением value . Метод insert возвращает новый экземпляр класса BinaryNode со значением value . Левое и правое поддерево определяются ссылками на пустую вершину\n",
    "    def __contains__(self,value):\n",
    "        return False\n",
    "    def __len__(self):\n",
    "        return 0"
   ]
  },
  {
   "cell_type": "code",
   "execution_count": 189,
   "id": "d32ea873-4d11-4ae1-9ef7-57e2ea4b0dd9",
   "metadata": {},
   "outputs": [],
   "source": [
    "class BinaryNode:\n",
    "    \"\"\"Класс BinaryNode определяет шаблон для создания объекта, представляющего\n",
    "элемент бинарного дерева поиска\"\"\"\n",
    "    numberOfNodes=0\n",
    "    def __init__(self,left,value,right): # Инициализация экземпляра класса и одноименных атрибутов экземпляра класса left, value,right(хранение ссылки на корень левого и правого поддерева и значения вершины\n",
    "        self.left=left\n",
    "        self.value=value\n",
    "        self.right=right\n",
    "        BinaryNode.numberOfNodes+=1\n",
    "    def __repr__(self): # Метод строкового представления экземпляра класса __repr__ возвращает кортеж, состоящий из строкового представления корня левого поддерева left , из строкового представления значения value вершины и из строкового представления корня правого поддерева right\n",
    "        return f'({self.left},{self.value},{self.right})'\n",
    "    def insert(self,value): # Добавление нового элемента дерева\n",
    "        if value<self.value:\n",
    "            self.left=self.left.insert(value)\n",
    "        if value>=self.value:\n",
    "            self.right=self.right.insert(value)\n",
    "        return self\n",
    "    def __contains__(self,value):\n",
    "        if value==self.value:\n",
    "            return True\n",
    "        elif value<self.value:\n",
    "            return value in self.left\n",
    "        else: \n",
    "            return value in self.right\n",
    "    def __len__(self):\n",
    "        return self.numberOfNodes"
   ]
  },
  {
   "cell_type": "code",
   "execution_count": 191,
   "id": "9cb4c94b-0a98-4fab-b56e-506fb0ff3689",
   "metadata": {},
   "outputs": [
    {
     "data": {
      "text/plain": [
       "5"
      ]
     },
     "execution_count": 191,
     "metadata": {},
     "output_type": "execute_result"
    }
   ],
   "source": [
    "tree = BinaryTree()\n",
    "for i in source_data:\n",
    " tree.insert(i)\n",
    "len(tree)"
   ]
  },
  {
   "cell_type": "code",
   "execution_count": null,
   "id": "bc6cb37b-d286-4f41-b6cb-970994c9fbd5",
   "metadata": {},
   "outputs": [],
   "source": []
  }
 ],
 "metadata": {
  "kernelspec": {
   "display_name": "Python [conda env:base] *",
   "language": "python",
   "name": "conda-base-py"
  },
  "language_info": {
   "codemirror_mode": {
    "name": "ipython",
    "version": 3
   },
   "file_extension": ".py",
   "mimetype": "text/x-python",
   "name": "python",
   "nbconvert_exporter": "python",
   "pygments_lexer": "ipython3",
   "version": "3.12.7"
  }
 },
 "nbformat": 4,
 "nbformat_minor": 5
}
